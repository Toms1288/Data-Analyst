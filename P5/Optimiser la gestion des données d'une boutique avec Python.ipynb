{
 "cells": [
  {
   "attachments": {},
   "cell_type": "markdown",
   "metadata": {},
   "source": [
    "# <p align=center> Optimiser la gestion des données d'une boutique avec Python <p>"
   ]
  },
  {
   "attachments": {},
   "cell_type": "markdown",
   "metadata": {},
   "source": [
    "Aujourd’hui est un grand jour, vous commencez votre mission en tant que data analyst freelance chez BottleNeck, un marchand de vin très prestigieux. Votre manager sur cette mission (Laurent) vous accueille chaleureusement et vous propose de partager un petit café avec le reste de l’équipe du service Numérique. L’ambiance est bonne, et vous voilà déjà parfaitement intégré dans cette équipe détendue mais professionnelle.\\\n",
    "\\\n",
    "\\\n",
    "*\"Actuellement, pour gérer nos ressources, nos clients, etc., on utilise un ERP qui n’est absolument pas relié à notre site de vente en ligne. Pour être tout à fait honnête, les outils en place sont vraiment artisanaux et dans ces conditions, la gestion des stocks est vraiment complexe et notre visibilité en termes d’analyse des ventes sur le Net est vraiment réduite, car très peu de personnes ont accès au back-office. En attendant une solution plus centralisée, un rapprochement entre les 2 bases, même manuel, pourrait être très utile…\"*"
   ]
  },
  {
   "attachments": {},
   "cell_type": "markdown",
   "metadata": {},
   "source": [
    "# SOMMAIRE<br> <a class=\"anchor\" id=\"sommaire\"></a>\n",
    "\n",
    "- __[1. Nettoyage des Données](#1-nettoyage-des-données)__<br>\n",
    "   - [1.1. Base ERP](#11-base-erp)<br>\n",
    "   - [1.2. Base Web](#12-base_web)<br>\n",
    "   - [1.3. Base de Liaison](#13-base_liaison)<br>\n",
    "- __[2. Analyse du chiffre d'affaire](#2-analyse-du-chiffre-daffaire)__<br>\n",
    "   - [2.1. Liaison des tables](#21-liaison-des-tables)<br>\n",
    "   - [2.2. Calcul du chiffre d'affaire](#22-calcul-du-chiffre-daffaire)<br>\n",
    "- __[3. Analyse univariée des Prix](#3-analyse-univariée-de-price)__<br>\n",
    "   - [3.1. Analyse statistique](#31-analyse-statistique)<br>\n",
    "   - [3.2. Représentations graphiques](#32-rerpésentations-graphiques)<br>\n",
    "   - [3.3. Comparons les prix avec un autre site de vins et spiritueux](#33-comparons-les-prix-avec-un-autre-site-de-vins-et-spiritueux)<br>"
   ]
  },
  {
   "cell_type": "code",
   "execution_count": 1,
   "metadata": {},
   "outputs": [],
   "source": [
    "import pandas as pd\n",
    "import numpy as np\n",
    "import matplotlib.pyplot as plt\n",
    "import matplotlib.patches as mpatches\n",
    "import seaborn as sns\n",
    "sns.set(style=\"darkgrid\")\n",
    "\n",
    "\n",
    "#Enleve la mise en garde suite à l'import xlsx\n",
    "import warnings\n",
    "warnings.simplefilter(\"ignore\")"
   ]
  },
  {
   "attachments": {},
   "cell_type": "markdown",
   "metadata": {},
   "source": [
    "## 1. Nettoyage des Données <a class=\"anchor\" id=\" Nettoyage\">"
   ]
  },
  {
   "attachments": {},
   "cell_type": "markdown",
   "metadata": {},
   "source": [
    "**Import des 3 tables qui seront utilisées**"
   ]
  },
  {
   "cell_type": "code",
   "execution_count": 2,
   "metadata": {},
   "outputs": [],
   "source": [
    "erp = pd.read_excel('erp.xlsx')\n",
    "\n",
    "liaison = pd.read_excel('liaison.xlsx')\n",
    "\n",
    "web = pd.read_excel('web.xlsx')"
   ]
  },
  {
   "attachments": {},
   "cell_type": "markdown",
   "metadata": {},
   "source": [
    "### 1.1. Base ERP <a class=\"anchor\" id=\"Base_erp\"></a>"
   ]
  },
  {
   "cell_type": "code",
   "execution_count": 3,
   "metadata": {},
   "outputs": [
    {
     "data": {
      "text/plain": [
       "(825, 5)"
      ]
     },
     "execution_count": 3,
     "metadata": {},
     "output_type": "execute_result"
    }
   ],
   "source": [
    "erp.shape"
   ]
  },
  {
   "cell_type": "code",
   "execution_count": 4,
   "metadata": {},
   "outputs": [
    {
     "data": {
      "text/plain": [
       "product_id          int64\n",
       "onsale_web          int64\n",
       "price             float64\n",
       "stock_quantity      int64\n",
       "stock_status       object\n",
       "dtype: object"
      ]
     },
     "execution_count": 4,
     "metadata": {},
     "output_type": "execute_result"
    }
   ],
   "source": [
    "erp.dtypes"
   ]
  },
  {
   "attachments": {},
   "cell_type": "markdown",
   "metadata": {},
   "source": [
    "**Valeurs Nulles**"
   ]
  },
  {
   "cell_type": "code",
   "execution_count": 5,
   "metadata": {},
   "outputs": [
    {
     "name": "stdout",
     "output_type": "stream",
     "text": [
      "product_id        0\n",
      "onsale_web        0\n",
      "price             0\n",
      "stock_quantity    0\n",
      "stock_status      0\n",
      "dtype: int64\n"
     ]
    }
   ],
   "source": [
    "print(erp.isnull().sum())"
   ]
  },
  {
   "attachments": {},
   "cell_type": "markdown",
   "metadata": {},
   "source": [
    "Pas de valeurs nulles dans la table"
   ]
  },
  {
   "attachments": {},
   "cell_type": "markdown",
   "metadata": {},
   "source": [
    "**Doublons**"
   ]
  },
  {
   "cell_type": "code",
   "execution_count": 6,
   "metadata": {},
   "outputs": [
    {
     "data": {
      "text/html": [
       "<div>\n",
       "<style scoped>\n",
       "    .dataframe tbody tr th:only-of-type {\n",
       "        vertical-align: middle;\n",
       "    }\n",
       "\n",
       "    .dataframe tbody tr th {\n",
       "        vertical-align: top;\n",
       "    }\n",
       "\n",
       "    .dataframe thead th {\n",
       "        text-align: right;\n",
       "    }\n",
       "</style>\n",
       "<table border=\"1\" class=\"dataframe\">\n",
       "  <thead>\n",
       "    <tr style=\"text-align: right;\">\n",
       "      <th></th>\n",
       "      <th>product_id</th>\n",
       "      <th>onsale_web</th>\n",
       "      <th>price</th>\n",
       "      <th>stock_quantity</th>\n",
       "      <th>stock_status</th>\n",
       "    </tr>\n",
       "  </thead>\n",
       "  <tbody>\n",
       "  </tbody>\n",
       "</table>\n",
       "</div>"
      ],
      "text/plain": [
       "Empty DataFrame\n",
       "Columns: [product_id, onsale_web, price, stock_quantity, stock_status]\n",
       "Index: []"
      ]
     },
     "execution_count": 6,
     "metadata": {},
     "output_type": "execute_result"
    }
   ],
   "source": [
    "erp.loc[erp['product_id'].duplicated(keep=False),:]"
   ]
  },
  {
   "attachments": {},
   "cell_type": "markdown",
   "metadata": {},
   "source": [
    "Pas de doublons au niveau de la clé primaire"
   ]
  },
  {
   "cell_type": "code",
   "execution_count": 7,
   "metadata": {},
   "outputs": [
    {
     "data": {
      "text/html": [
       "<div>\n",
       "<style scoped>\n",
       "    .dataframe tbody tr th:only-of-type {\n",
       "        vertical-align: middle;\n",
       "    }\n",
       "\n",
       "    .dataframe tbody tr th {\n",
       "        vertical-align: top;\n",
       "    }\n",
       "\n",
       "    .dataframe thead th {\n",
       "        text-align: right;\n",
       "    }\n",
       "</style>\n",
       "<table border=\"1\" class=\"dataframe\">\n",
       "  <thead>\n",
       "    <tr style=\"text-align: right;\">\n",
       "      <th></th>\n",
       "      <th>product_id</th>\n",
       "      <th>onsale_web</th>\n",
       "      <th>price</th>\n",
       "      <th>stock_quantity</th>\n",
       "    </tr>\n",
       "  </thead>\n",
       "  <tbody>\n",
       "    <tr>\n",
       "      <th>count</th>\n",
       "      <td>825.000000</td>\n",
       "      <td>825.000000</td>\n",
       "      <td>825.000000</td>\n",
       "      <td>825.000000</td>\n",
       "    </tr>\n",
       "    <tr>\n",
       "      <th>mean</th>\n",
       "      <td>5162.597576</td>\n",
       "      <td>0.869091</td>\n",
       "      <td>32.415636</td>\n",
       "      <td>26.496970</td>\n",
       "    </tr>\n",
       "    <tr>\n",
       "      <th>std</th>\n",
       "      <td>902.644635</td>\n",
       "      <td>0.337506</td>\n",
       "      <td>26.795849</td>\n",
       "      <td>45.892422</td>\n",
       "    </tr>\n",
       "    <tr>\n",
       "      <th>min</th>\n",
       "      <td>3847.000000</td>\n",
       "      <td>0.000000</td>\n",
       "      <td>5.200000</td>\n",
       "      <td>0.000000</td>\n",
       "    </tr>\n",
       "    <tr>\n",
       "      <th>25%</th>\n",
       "      <td>4348.000000</td>\n",
       "      <td>1.000000</td>\n",
       "      <td>14.600000</td>\n",
       "      <td>1.000000</td>\n",
       "    </tr>\n",
       "    <tr>\n",
       "      <th>50%</th>\n",
       "      <td>4907.000000</td>\n",
       "      <td>1.000000</td>\n",
       "      <td>24.400000</td>\n",
       "      <td>11.000000</td>\n",
       "    </tr>\n",
       "    <tr>\n",
       "      <th>75%</th>\n",
       "      <td>5805.000000</td>\n",
       "      <td>1.000000</td>\n",
       "      <td>42.000000</td>\n",
       "      <td>34.000000</td>\n",
       "    </tr>\n",
       "    <tr>\n",
       "      <th>max</th>\n",
       "      <td>7338.000000</td>\n",
       "      <td>1.000000</td>\n",
       "      <td>225.000000</td>\n",
       "      <td>578.000000</td>\n",
       "    </tr>\n",
       "  </tbody>\n",
       "</table>\n",
       "</div>"
      ],
      "text/plain": [
       "        product_id  onsale_web       price  stock_quantity\n",
       "count   825.000000  825.000000  825.000000      825.000000\n",
       "mean   5162.597576    0.869091   32.415636       26.496970\n",
       "std     902.644635    0.337506   26.795849       45.892422\n",
       "min    3847.000000    0.000000    5.200000        0.000000\n",
       "25%    4348.000000    1.000000   14.600000        1.000000\n",
       "50%    4907.000000    1.000000   24.400000       11.000000\n",
       "75%    5805.000000    1.000000   42.000000       34.000000\n",
       "max    7338.000000    1.000000  225.000000      578.000000"
      ]
     },
     "execution_count": 7,
     "metadata": {},
     "output_type": "execute_result"
    }
   ],
   "source": [
    "erp.describe()"
   ]
  },
  {
   "attachments": {},
   "cell_type": "markdown",
   "metadata": {},
   "source": [
    "### 1.2. Base Web <a class=\"anchor\" id=\"Base_web\"></a>"
   ]
  },
  {
   "cell_type": "code",
   "execution_count": 8,
   "metadata": {},
   "outputs": [
    {
     "data": {
      "text/plain": [
       "(1513, 28)"
      ]
     },
     "execution_count": 8,
     "metadata": {},
     "output_type": "execute_result"
    }
   ],
   "source": [
    "web.shape"
   ]
  },
  {
   "cell_type": "code",
   "execution_count": 9,
   "metadata": {},
   "outputs": [
    {
     "data": {
      "text/plain": [
       "sku                              object\n",
       "virtual                           int64\n",
       "downloadable                      int64\n",
       "rating_count                      int64\n",
       "average_rating                  float64\n",
       "total_sales                     float64\n",
       "tax_status                       object\n",
       "tax_class                       float64\n",
       "post_author                     float64\n",
       "post_date                datetime64[ns]\n",
       "post_date_gmt            datetime64[ns]\n",
       "post_content                    float64\n",
       "post_title                       object\n",
       "post_excerpt                     object\n",
       "post_status                      object\n",
       "comment_status                   object\n",
       "ping_status                      object\n",
       "post_password                   float64\n",
       "post_name                        object\n",
       "post_modified            datetime64[ns]\n",
       "post_modified_gmt        datetime64[ns]\n",
       "post_content_filtered           float64\n",
       "post_parent                     float64\n",
       "guid                             object\n",
       "menu_order                      float64\n",
       "post_type                        object\n",
       "post_mime_type                   object\n",
       "comment_count                   float64\n",
       "dtype: object"
      ]
     },
     "execution_count": 9,
     "metadata": {},
     "output_type": "execute_result"
    }
   ],
   "source": [
    "web.dtypes"
   ]
  },
  {
   "attachments": {},
   "cell_type": "markdown",
   "metadata": {},
   "source": [
    "**Valeurs Nulles**"
   ]
  },
  {
   "cell_type": "code",
   "execution_count": 10,
   "metadata": {},
   "outputs": [
    {
     "name": "stdout",
     "output_type": "stream",
     "text": [
      "sku                        85\n",
      "virtual                     0\n",
      "downloadable                0\n",
      "rating_count                0\n",
      "average_rating             83\n",
      "total_sales                83\n",
      "tax_status                797\n",
      "tax_class                1513\n",
      "post_author                83\n",
      "post_date                  83\n",
      "post_date_gmt              83\n",
      "post_content             1513\n",
      "post_title                 83\n",
      "post_excerpt              797\n",
      "post_status                83\n",
      "comment_status             83\n",
      "ping_status                83\n",
      "post_password            1513\n",
      "post_name                  83\n",
      "post_modified              83\n",
      "post_modified_gmt          83\n",
      "post_content_filtered    1513\n",
      "post_parent                83\n",
      "guid                       83\n",
      "menu_order                 83\n",
      "post_type                  83\n",
      "post_mime_type            799\n",
      "comment_count              83\n",
      "dtype: int64\n"
     ]
    }
   ],
   "source": [
    "print(web.isnull().sum())"
   ]
  },
  {
   "attachments": {},
   "cell_type": "markdown",
   "metadata": {},
   "source": [
    "85 valeurs vides au niveau de la clé primaire. 83 au niveau des ventes ('total_sales')."
   ]
  },
  {
   "cell_type": "code",
   "execution_count": 11,
   "metadata": {},
   "outputs": [
    {
     "name": "stdout",
     "output_type": "stream",
     "text": [
      "470    0.0\n",
      "471    0.0\n",
      "Name: total_sales, dtype: float64\n"
     ]
    }
   ],
   "source": [
    "web_sku = web[[\"sku\",\"total_sales\"]]\n",
    "web_sku_na = web_sku[web_sku.isna().any(axis=1)]\n",
    "web_sku_na = web_sku_na[\"total_sales\"].dropna()\n",
    "print(web_sku_na)"
   ]
  },
  {
   "attachments": {},
   "cell_type": "markdown",
   "metadata": {},
   "source": [
    "Pas de ventes concernant le SKU manquant"
   ]
  },
  {
   "attachments": {},
   "cell_type": "markdown",
   "metadata": {},
   "source": [
    "**Doublons**"
   ]
  },
  {
   "cell_type": "code",
   "execution_count": 12,
   "metadata": {},
   "outputs": [
    {
     "data": {
      "text/html": [
       "<div>\n",
       "<style scoped>\n",
       "    .dataframe tbody tr th:only-of-type {\n",
       "        vertical-align: middle;\n",
       "    }\n",
       "\n",
       "    .dataframe tbody tr th {\n",
       "        vertical-align: top;\n",
       "    }\n",
       "\n",
       "    .dataframe thead th {\n",
       "        text-align: right;\n",
       "    }\n",
       "</style>\n",
       "<table border=\"1\" class=\"dataframe\">\n",
       "  <thead>\n",
       "    <tr style=\"text-align: right;\">\n",
       "      <th></th>\n",
       "      <th>sku</th>\n",
       "      <th>virtual</th>\n",
       "      <th>downloadable</th>\n",
       "      <th>rating_count</th>\n",
       "      <th>average_rating</th>\n",
       "      <th>total_sales</th>\n",
       "      <th>tax_status</th>\n",
       "      <th>tax_class</th>\n",
       "      <th>post_author</th>\n",
       "      <th>post_date</th>\n",
       "      <th>...</th>\n",
       "      <th>post_name</th>\n",
       "      <th>post_modified</th>\n",
       "      <th>post_modified_gmt</th>\n",
       "      <th>post_content_filtered</th>\n",
       "      <th>post_parent</th>\n",
       "      <th>guid</th>\n",
       "      <th>menu_order</th>\n",
       "      <th>post_type</th>\n",
       "      <th>post_mime_type</th>\n",
       "      <th>comment_count</th>\n",
       "    </tr>\n",
       "  </thead>\n",
       "  <tbody>\n",
       "    <tr>\n",
       "      <th>993</th>\n",
       "      <td>7818</td>\n",
       "      <td>0</td>\n",
       "      <td>0</td>\n",
       "      <td>0</td>\n",
       "      <td>0.0</td>\n",
       "      <td>96.0</td>\n",
       "      <td>NaN</td>\n",
       "      <td>NaN</td>\n",
       "      <td>2.0</td>\n",
       "      <td>2018-03-01 14:02:44</td>\n",
       "      <td>...</td>\n",
       "      <td>champagne-gosset-grand-blanc-de-blanc</td>\n",
       "      <td>2020-08-12 14:00:03</td>\n",
       "      <td>2020-08-12 12:00:03</td>\n",
       "      <td>NaN</td>\n",
       "      <td>0.0</td>\n",
       "      <td>https://www.bottle-neck.fr/wp-content/uploads/...</td>\n",
       "      <td>0.0</td>\n",
       "      <td>attachment</td>\n",
       "      <td>image/jpeg</td>\n",
       "      <td>0.0</td>\n",
       "    </tr>\n",
       "    <tr>\n",
       "      <th>197</th>\n",
       "      <td>7818</td>\n",
       "      <td>0</td>\n",
       "      <td>0</td>\n",
       "      <td>0</td>\n",
       "      <td>0.0</td>\n",
       "      <td>96.0</td>\n",
       "      <td>taxable</td>\n",
       "      <td>NaN</td>\n",
       "      <td>2.0</td>\n",
       "      <td>2018-03-01 14:02:44</td>\n",
       "      <td>...</td>\n",
       "      <td>champagne-gosset-grand-blanc-de-blanc</td>\n",
       "      <td>2020-08-12 14:00:03</td>\n",
       "      <td>2020-08-12 12:00:03</td>\n",
       "      <td>NaN</td>\n",
       "      <td>0.0</td>\n",
       "      <td>https://www.bottle-neck.fr/?post_type=product&amp;...</td>\n",
       "      <td>0.0</td>\n",
       "      <td>product</td>\n",
       "      <td>NaN</td>\n",
       "      <td>0.0</td>\n",
       "    </tr>\n",
       "    <tr>\n",
       "      <th>870</th>\n",
       "      <td>1662</td>\n",
       "      <td>0</td>\n",
       "      <td>0</td>\n",
       "      <td>0</td>\n",
       "      <td>0.0</td>\n",
       "      <td>87.0</td>\n",
       "      <td>NaN</td>\n",
       "      <td>NaN</td>\n",
       "      <td>2.0</td>\n",
       "      <td>2018-02-13 13:17:25</td>\n",
       "      <td>...</td>\n",
       "      <td>champagne-gosset-grand-rose</td>\n",
       "      <td>2020-08-14 16:45:03</td>\n",
       "      <td>2020-08-14 14:45:03</td>\n",
       "      <td>NaN</td>\n",
       "      <td>0.0</td>\n",
       "      <td>https://www.bottle-neck.fr/wp-content/uploads/...</td>\n",
       "      <td>0.0</td>\n",
       "      <td>attachment</td>\n",
       "      <td>image/jpeg</td>\n",
       "      <td>0.0</td>\n",
       "    </tr>\n",
       "    <tr>\n",
       "      <th>72</th>\n",
       "      <td>1662</td>\n",
       "      <td>0</td>\n",
       "      <td>0</td>\n",
       "      <td>0</td>\n",
       "      <td>0.0</td>\n",
       "      <td>87.0</td>\n",
       "      <td>taxable</td>\n",
       "      <td>NaN</td>\n",
       "      <td>2.0</td>\n",
       "      <td>2018-02-13 13:17:25</td>\n",
       "      <td>...</td>\n",
       "      <td>champagne-gosset-grand-rose</td>\n",
       "      <td>2020-08-14 16:45:03</td>\n",
       "      <td>2020-08-14 14:45:03</td>\n",
       "      <td>NaN</td>\n",
       "      <td>0.0</td>\n",
       "      <td>https://www.bottle-neck.fr/?post_type=product&amp;...</td>\n",
       "      <td>0.0</td>\n",
       "      <td>product</td>\n",
       "      <td>NaN</td>\n",
       "      <td>0.0</td>\n",
       "    </tr>\n",
       "    <tr>\n",
       "      <th>31</th>\n",
       "      <td>16416</td>\n",
       "      <td>0</td>\n",
       "      <td>0</td>\n",
       "      <td>0</td>\n",
       "      <td>0.0</td>\n",
       "      <td>62.0</td>\n",
       "      <td>taxable</td>\n",
       "      <td>NaN</td>\n",
       "      <td>2.0</td>\n",
       "      <td>2018-02-12 13:42:28</td>\n",
       "      <td>...</td>\n",
       "      <td>gilles-robin-crozes-hermitage-papillon-2019</td>\n",
       "      <td>2020-08-27 16:05:04</td>\n",
       "      <td>2020-08-27 14:05:04</td>\n",
       "      <td>NaN</td>\n",
       "      <td>0.0</td>\n",
       "      <td>https://www.bottle-neck.fr/?post_type=product&amp;...</td>\n",
       "      <td>0.0</td>\n",
       "      <td>product</td>\n",
       "      <td>NaN</td>\n",
       "      <td>0.0</td>\n",
       "    </tr>\n",
       "    <tr>\n",
       "      <th>...</th>\n",
       "      <td>...</td>\n",
       "      <td>...</td>\n",
       "      <td>...</td>\n",
       "      <td>...</td>\n",
       "      <td>...</td>\n",
       "      <td>...</td>\n",
       "      <td>...</td>\n",
       "      <td>...</td>\n",
       "      <td>...</td>\n",
       "      <td>...</td>\n",
       "      <td>...</td>\n",
       "      <td>...</td>\n",
       "      <td>...</td>\n",
       "      <td>...</td>\n",
       "      <td>...</td>\n",
       "      <td>...</td>\n",
       "      <td>...</td>\n",
       "      <td>...</td>\n",
       "      <td>...</td>\n",
       "      <td>...</td>\n",
       "      <td>...</td>\n",
       "    </tr>\n",
       "    <tr>\n",
       "      <th>792</th>\n",
       "      <td>NaN</td>\n",
       "      <td>0</td>\n",
       "      <td>0</td>\n",
       "      <td>0</td>\n",
       "      <td>NaN</td>\n",
       "      <td>NaN</td>\n",
       "      <td>NaN</td>\n",
       "      <td>NaN</td>\n",
       "      <td>NaN</td>\n",
       "      <td>NaT</td>\n",
       "      <td>...</td>\n",
       "      <td>NaN</td>\n",
       "      <td>NaT</td>\n",
       "      <td>NaT</td>\n",
       "      <td>NaN</td>\n",
       "      <td>NaN</td>\n",
       "      <td>NaN</td>\n",
       "      <td>NaN</td>\n",
       "      <td>NaN</td>\n",
       "      <td>NaN</td>\n",
       "      <td>NaN</td>\n",
       "    </tr>\n",
       "    <tr>\n",
       "      <th>793</th>\n",
       "      <td>NaN</td>\n",
       "      <td>0</td>\n",
       "      <td>0</td>\n",
       "      <td>0</td>\n",
       "      <td>NaN</td>\n",
       "      <td>NaN</td>\n",
       "      <td>NaN</td>\n",
       "      <td>NaN</td>\n",
       "      <td>NaN</td>\n",
       "      <td>NaT</td>\n",
       "      <td>...</td>\n",
       "      <td>NaN</td>\n",
       "      <td>NaT</td>\n",
       "      <td>NaT</td>\n",
       "      <td>NaN</td>\n",
       "      <td>NaN</td>\n",
       "      <td>NaN</td>\n",
       "      <td>NaN</td>\n",
       "      <td>NaN</td>\n",
       "      <td>NaN</td>\n",
       "      <td>NaN</td>\n",
       "    </tr>\n",
       "    <tr>\n",
       "      <th>794</th>\n",
       "      <td>NaN</td>\n",
       "      <td>0</td>\n",
       "      <td>0</td>\n",
       "      <td>0</td>\n",
       "      <td>NaN</td>\n",
       "      <td>NaN</td>\n",
       "      <td>NaN</td>\n",
       "      <td>NaN</td>\n",
       "      <td>NaN</td>\n",
       "      <td>NaT</td>\n",
       "      <td>...</td>\n",
       "      <td>NaN</td>\n",
       "      <td>NaT</td>\n",
       "      <td>NaT</td>\n",
       "      <td>NaN</td>\n",
       "      <td>NaN</td>\n",
       "      <td>NaN</td>\n",
       "      <td>NaN</td>\n",
       "      <td>NaN</td>\n",
       "      <td>NaN</td>\n",
       "      <td>NaN</td>\n",
       "    </tr>\n",
       "    <tr>\n",
       "      <th>795</th>\n",
       "      <td>NaN</td>\n",
       "      <td>0</td>\n",
       "      <td>0</td>\n",
       "      <td>0</td>\n",
       "      <td>NaN</td>\n",
       "      <td>NaN</td>\n",
       "      <td>NaN</td>\n",
       "      <td>NaN</td>\n",
       "      <td>NaN</td>\n",
       "      <td>NaT</td>\n",
       "      <td>...</td>\n",
       "      <td>NaN</td>\n",
       "      <td>NaT</td>\n",
       "      <td>NaT</td>\n",
       "      <td>NaN</td>\n",
       "      <td>NaN</td>\n",
       "      <td>NaN</td>\n",
       "      <td>NaN</td>\n",
       "      <td>NaN</td>\n",
       "      <td>NaN</td>\n",
       "      <td>NaN</td>\n",
       "    </tr>\n",
       "    <tr>\n",
       "      <th>796</th>\n",
       "      <td>NaN</td>\n",
       "      <td>0</td>\n",
       "      <td>0</td>\n",
       "      <td>0</td>\n",
       "      <td>NaN</td>\n",
       "      <td>NaN</td>\n",
       "      <td>NaN</td>\n",
       "      <td>NaN</td>\n",
       "      <td>NaN</td>\n",
       "      <td>NaT</td>\n",
       "      <td>...</td>\n",
       "      <td>NaN</td>\n",
       "      <td>NaT</td>\n",
       "      <td>NaT</td>\n",
       "      <td>NaN</td>\n",
       "      <td>NaN</td>\n",
       "      <td>NaN</td>\n",
       "      <td>NaN</td>\n",
       "      <td>NaN</td>\n",
       "      <td>NaN</td>\n",
       "      <td>NaN</td>\n",
       "    </tr>\n",
       "  </tbody>\n",
       "</table>\n",
       "<p>1513 rows × 28 columns</p>\n",
       "</div>"
      ],
      "text/plain": [
       "       sku  virtual  downloadable  rating_count  average_rating  total_sales  \\\n",
       "993   7818        0             0             0             0.0         96.0   \n",
       "197   7818        0             0             0             0.0         96.0   \n",
       "870   1662        0             0             0             0.0         87.0   \n",
       "72    1662        0             0             0             0.0         87.0   \n",
       "31   16416        0             0             0             0.0         62.0   \n",
       "..     ...      ...           ...           ...             ...          ...   \n",
       "792    NaN        0             0             0             NaN          NaN   \n",
       "793    NaN        0             0             0             NaN          NaN   \n",
       "794    NaN        0             0             0             NaN          NaN   \n",
       "795    NaN        0             0             0             NaN          NaN   \n",
       "796    NaN        0             0             0             NaN          NaN   \n",
       "\n",
       "    tax_status  tax_class  post_author           post_date  ...  \\\n",
       "993        NaN        NaN          2.0 2018-03-01 14:02:44  ...   \n",
       "197    taxable        NaN          2.0 2018-03-01 14:02:44  ...   \n",
       "870        NaN        NaN          2.0 2018-02-13 13:17:25  ...   \n",
       "72     taxable        NaN          2.0 2018-02-13 13:17:25  ...   \n",
       "31     taxable        NaN          2.0 2018-02-12 13:42:28  ...   \n",
       "..         ...        ...          ...                 ...  ...   \n",
       "792        NaN        NaN          NaN                 NaT  ...   \n",
       "793        NaN        NaN          NaN                 NaT  ...   \n",
       "794        NaN        NaN          NaN                 NaT  ...   \n",
       "795        NaN        NaN          NaN                 NaT  ...   \n",
       "796        NaN        NaN          NaN                 NaT  ...   \n",
       "\n",
       "                                       post_name       post_modified  \\\n",
       "993        champagne-gosset-grand-blanc-de-blanc 2020-08-12 14:00:03   \n",
       "197        champagne-gosset-grand-blanc-de-blanc 2020-08-12 14:00:03   \n",
       "870                  champagne-gosset-grand-rose 2020-08-14 16:45:03   \n",
       "72                   champagne-gosset-grand-rose 2020-08-14 16:45:03   \n",
       "31   gilles-robin-crozes-hermitage-papillon-2019 2020-08-27 16:05:04   \n",
       "..                                           ...                 ...   \n",
       "792                                          NaN                 NaT   \n",
       "793                                          NaN                 NaT   \n",
       "794                                          NaN                 NaT   \n",
       "795                                          NaN                 NaT   \n",
       "796                                          NaN                 NaT   \n",
       "\n",
       "      post_modified_gmt post_content_filtered post_parent  \\\n",
       "993 2020-08-12 12:00:03                   NaN         0.0   \n",
       "197 2020-08-12 12:00:03                   NaN         0.0   \n",
       "870 2020-08-14 14:45:03                   NaN         0.0   \n",
       "72  2020-08-14 14:45:03                   NaN         0.0   \n",
       "31  2020-08-27 14:05:04                   NaN         0.0   \n",
       "..                  ...                   ...         ...   \n",
       "792                 NaT                   NaN         NaN   \n",
       "793                 NaT                   NaN         NaN   \n",
       "794                 NaT                   NaN         NaN   \n",
       "795                 NaT                   NaN         NaN   \n",
       "796                 NaT                   NaN         NaN   \n",
       "\n",
       "                                                  guid menu_order   post_type  \\\n",
       "993  https://www.bottle-neck.fr/wp-content/uploads/...        0.0  attachment   \n",
       "197  https://www.bottle-neck.fr/?post_type=product&...        0.0     product   \n",
       "870  https://www.bottle-neck.fr/wp-content/uploads/...        0.0  attachment   \n",
       "72   https://www.bottle-neck.fr/?post_type=product&...        0.0     product   \n",
       "31   https://www.bottle-neck.fr/?post_type=product&...        0.0     product   \n",
       "..                                                 ...        ...         ...   \n",
       "792                                                NaN        NaN         NaN   \n",
       "793                                                NaN        NaN         NaN   \n",
       "794                                                NaN        NaN         NaN   \n",
       "795                                                NaN        NaN         NaN   \n",
       "796                                                NaN        NaN         NaN   \n",
       "\n",
       "    post_mime_type comment_count  \n",
       "993     image/jpeg           0.0  \n",
       "197            NaN           0.0  \n",
       "870     image/jpeg           0.0  \n",
       "72             NaN           0.0  \n",
       "31             NaN           0.0  \n",
       "..             ...           ...  \n",
       "792            NaN           NaN  \n",
       "793            NaN           NaN  \n",
       "794            NaN           NaN  \n",
       "795            NaN           NaN  \n",
       "796            NaN           NaN  \n",
       "\n",
       "[1513 rows x 28 columns]"
      ]
     },
     "execution_count": 12,
     "metadata": {},
     "output_type": "execute_result"
    }
   ],
   "source": [
    "web.loc[web['sku'].duplicated(keep=False),:].sort_values('total_sales',ascending=False)"
   ]
  },
  {
   "attachments": {},
   "cell_type": "markdown",
   "metadata": {},
   "source": [
    "Par rapport à la clé primaire de la table, toutes les lignes sont en doublon."
   ]
  },
  {
   "cell_type": "code",
   "execution_count": 13,
   "metadata": {},
   "outputs": [],
   "source": [
    "#L'export web contient toutes les lignes en double. Nous choisissons de tenir compte\n",
    "# uniquement des lignes où post_type = produit et sku non Null\n",
    "web.drop(web[web['post_type']!='product'].index, inplace=True)\n",
    "web = web[web['sku'].notnull()]"
   ]
  },
  {
   "cell_type": "code",
   "execution_count": 14,
   "metadata": {},
   "outputs": [
    {
     "data": {
      "text/html": [
       "<div>\n",
       "<style scoped>\n",
       "    .dataframe tbody tr th:only-of-type {\n",
       "        vertical-align: middle;\n",
       "    }\n",
       "\n",
       "    .dataframe tbody tr th {\n",
       "        vertical-align: top;\n",
       "    }\n",
       "\n",
       "    .dataframe thead th {\n",
       "        text-align: right;\n",
       "    }\n",
       "</style>\n",
       "<table border=\"1\" class=\"dataframe\">\n",
       "  <thead>\n",
       "    <tr style=\"text-align: right;\">\n",
       "      <th></th>\n",
       "      <th>virtual</th>\n",
       "      <th>downloadable</th>\n",
       "      <th>rating_count</th>\n",
       "      <th>average_rating</th>\n",
       "      <th>total_sales</th>\n",
       "      <th>tax_class</th>\n",
       "      <th>post_author</th>\n",
       "      <th>post_content</th>\n",
       "      <th>post_password</th>\n",
       "      <th>post_content_filtered</th>\n",
       "      <th>post_parent</th>\n",
       "      <th>menu_order</th>\n",
       "      <th>comment_count</th>\n",
       "    </tr>\n",
       "  </thead>\n",
       "  <tbody>\n",
       "    <tr>\n",
       "      <th>count</th>\n",
       "      <td>714.0</td>\n",
       "      <td>714.0</td>\n",
       "      <td>714.0</td>\n",
       "      <td>714.0</td>\n",
       "      <td>714.000000</td>\n",
       "      <td>0.0</td>\n",
       "      <td>714.000000</td>\n",
       "      <td>0.0</td>\n",
       "      <td>0.0</td>\n",
       "      <td>0.0</td>\n",
       "      <td>714.0</td>\n",
       "      <td>714.0</td>\n",
       "      <td>714.0</td>\n",
       "    </tr>\n",
       "    <tr>\n",
       "      <th>mean</th>\n",
       "      <td>0.0</td>\n",
       "      <td>0.0</td>\n",
       "      <td>0.0</td>\n",
       "      <td>0.0</td>\n",
       "      <td>4.012605</td>\n",
       "      <td>NaN</td>\n",
       "      <td>1.998599</td>\n",
       "      <td>NaN</td>\n",
       "      <td>NaN</td>\n",
       "      <td>NaN</td>\n",
       "      <td>0.0</td>\n",
       "      <td>0.0</td>\n",
       "      <td>0.0</td>\n",
       "    </tr>\n",
       "    <tr>\n",
       "      <th>std</th>\n",
       "      <td>0.0</td>\n",
       "      <td>0.0</td>\n",
       "      <td>0.0</td>\n",
       "      <td>0.0</td>\n",
       "      <td>8.518183</td>\n",
       "      <td>NaN</td>\n",
       "      <td>0.037424</td>\n",
       "      <td>NaN</td>\n",
       "      <td>NaN</td>\n",
       "      <td>NaN</td>\n",
       "      <td>0.0</td>\n",
       "      <td>0.0</td>\n",
       "      <td>0.0</td>\n",
       "    </tr>\n",
       "    <tr>\n",
       "      <th>min</th>\n",
       "      <td>0.0</td>\n",
       "      <td>0.0</td>\n",
       "      <td>0.0</td>\n",
       "      <td>0.0</td>\n",
       "      <td>0.000000</td>\n",
       "      <td>NaN</td>\n",
       "      <td>1.000000</td>\n",
       "      <td>NaN</td>\n",
       "      <td>NaN</td>\n",
       "      <td>NaN</td>\n",
       "      <td>0.0</td>\n",
       "      <td>0.0</td>\n",
       "      <td>0.0</td>\n",
       "    </tr>\n",
       "    <tr>\n",
       "      <th>25%</th>\n",
       "      <td>0.0</td>\n",
       "      <td>0.0</td>\n",
       "      <td>0.0</td>\n",
       "      <td>0.0</td>\n",
       "      <td>0.000000</td>\n",
       "      <td>NaN</td>\n",
       "      <td>2.000000</td>\n",
       "      <td>NaN</td>\n",
       "      <td>NaN</td>\n",
       "      <td>NaN</td>\n",
       "      <td>0.0</td>\n",
       "      <td>0.0</td>\n",
       "      <td>0.0</td>\n",
       "    </tr>\n",
       "    <tr>\n",
       "      <th>50%</th>\n",
       "      <td>0.0</td>\n",
       "      <td>0.0</td>\n",
       "      <td>0.0</td>\n",
       "      <td>0.0</td>\n",
       "      <td>1.000000</td>\n",
       "      <td>NaN</td>\n",
       "      <td>2.000000</td>\n",
       "      <td>NaN</td>\n",
       "      <td>NaN</td>\n",
       "      <td>NaN</td>\n",
       "      <td>0.0</td>\n",
       "      <td>0.0</td>\n",
       "      <td>0.0</td>\n",
       "    </tr>\n",
       "    <tr>\n",
       "      <th>75%</th>\n",
       "      <td>0.0</td>\n",
       "      <td>0.0</td>\n",
       "      <td>0.0</td>\n",
       "      <td>0.0</td>\n",
       "      <td>4.000000</td>\n",
       "      <td>NaN</td>\n",
       "      <td>2.000000</td>\n",
       "      <td>NaN</td>\n",
       "      <td>NaN</td>\n",
       "      <td>NaN</td>\n",
       "      <td>0.0</td>\n",
       "      <td>0.0</td>\n",
       "      <td>0.0</td>\n",
       "    </tr>\n",
       "    <tr>\n",
       "      <th>max</th>\n",
       "      <td>0.0</td>\n",
       "      <td>0.0</td>\n",
       "      <td>0.0</td>\n",
       "      <td>0.0</td>\n",
       "      <td>96.000000</td>\n",
       "      <td>NaN</td>\n",
       "      <td>2.000000</td>\n",
       "      <td>NaN</td>\n",
       "      <td>NaN</td>\n",
       "      <td>NaN</td>\n",
       "      <td>0.0</td>\n",
       "      <td>0.0</td>\n",
       "      <td>0.0</td>\n",
       "    </tr>\n",
       "  </tbody>\n",
       "</table>\n",
       "</div>"
      ],
      "text/plain": [
       "       virtual  downloadable  rating_count  average_rating  total_sales  \\\n",
       "count    714.0         714.0         714.0           714.0   714.000000   \n",
       "mean       0.0           0.0           0.0             0.0     4.012605   \n",
       "std        0.0           0.0           0.0             0.0     8.518183   \n",
       "min        0.0           0.0           0.0             0.0     0.000000   \n",
       "25%        0.0           0.0           0.0             0.0     0.000000   \n",
       "50%        0.0           0.0           0.0             0.0     1.000000   \n",
       "75%        0.0           0.0           0.0             0.0     4.000000   \n",
       "max        0.0           0.0           0.0             0.0    96.000000   \n",
       "\n",
       "       tax_class  post_author  post_content  post_password  \\\n",
       "count        0.0   714.000000           0.0            0.0   \n",
       "mean         NaN     1.998599           NaN            NaN   \n",
       "std          NaN     0.037424           NaN            NaN   \n",
       "min          NaN     1.000000           NaN            NaN   \n",
       "25%          NaN     2.000000           NaN            NaN   \n",
       "50%          NaN     2.000000           NaN            NaN   \n",
       "75%          NaN     2.000000           NaN            NaN   \n",
       "max          NaN     2.000000           NaN            NaN   \n",
       "\n",
       "       post_content_filtered  post_parent  menu_order  comment_count  \n",
       "count                    0.0        714.0       714.0          714.0  \n",
       "mean                     NaN          0.0         0.0            0.0  \n",
       "std                      NaN          0.0         0.0            0.0  \n",
       "min                      NaN          0.0         0.0            0.0  \n",
       "25%                      NaN          0.0         0.0            0.0  \n",
       "50%                      NaN          0.0         0.0            0.0  \n",
       "75%                      NaN          0.0         0.0            0.0  \n",
       "max                      NaN          0.0         0.0            0.0  "
      ]
     },
     "execution_count": 14,
     "metadata": {},
     "output_type": "execute_result"
    }
   ],
   "source": [
    "web.describe()"
   ]
  },
  {
   "attachments": {},
   "cell_type": "markdown",
   "metadata": {},
   "source": [
    "Nous aurons donc 714 lignes à analyser."
   ]
  },
  {
   "attachments": {},
   "cell_type": "markdown",
   "metadata": {},
   "source": [
    "### 1.3. Base de Liaison <a class=\"anchor\" id=\"Base_liaison\"></a>"
   ]
  },
  {
   "cell_type": "code",
   "execution_count": 15,
   "metadata": {},
   "outputs": [
    {
     "data": {
      "text/plain": [
       "(825, 2)"
      ]
     },
     "execution_count": 15,
     "metadata": {},
     "output_type": "execute_result"
    }
   ],
   "source": [
    "liaison.shape"
   ]
  },
  {
   "cell_type": "code",
   "execution_count": 16,
   "metadata": {},
   "outputs": [
    {
     "data": {
      "text/plain": [
       "product_id     int64\n",
       "id_web        object\n",
       "dtype: object"
      ]
     },
     "execution_count": 16,
     "metadata": {},
     "output_type": "execute_result"
    }
   ],
   "source": [
    "liaison.dtypes"
   ]
  },
  {
   "attachments": {},
   "cell_type": "markdown",
   "metadata": {},
   "source": [
    "**Valeurs nulles**"
   ]
  },
  {
   "cell_type": "code",
   "execution_count": 17,
   "metadata": {},
   "outputs": [
    {
     "name": "stdout",
     "output_type": "stream",
     "text": [
      "product_id     0\n",
      "id_web        91\n",
      "dtype: int64\n"
     ]
    }
   ],
   "source": [
    "print(liaison.isnull().sum())"
   ]
  },
  {
   "attachments": {},
   "cell_type": "markdown",
   "metadata": {},
   "source": [
    "91 Valeurs nulles au niveau du sku."
   ]
  },
  {
   "attachments": {},
   "cell_type": "markdown",
   "metadata": {},
   "source": [
    "**Doublons**"
   ]
  },
  {
   "cell_type": "code",
   "execution_count": 18,
   "metadata": {},
   "outputs": [
    {
     "data": {
      "text/html": [
       "<div>\n",
       "<style scoped>\n",
       "    .dataframe tbody tr th:only-of-type {\n",
       "        vertical-align: middle;\n",
       "    }\n",
       "\n",
       "    .dataframe tbody tr th {\n",
       "        vertical-align: top;\n",
       "    }\n",
       "\n",
       "    .dataframe thead th {\n",
       "        text-align: right;\n",
       "    }\n",
       "</style>\n",
       "<table border=\"1\" class=\"dataframe\">\n",
       "  <thead>\n",
       "    <tr style=\"text-align: right;\">\n",
       "      <th></th>\n",
       "      <th>product_id</th>\n",
       "      <th>id_web</th>\n",
       "    </tr>\n",
       "  </thead>\n",
       "  <tbody>\n",
       "  </tbody>\n",
       "</table>\n",
       "</div>"
      ],
      "text/plain": [
       "Empty DataFrame\n",
       "Columns: [product_id, id_web]\n",
       "Index: []"
      ]
     },
     "execution_count": 18,
     "metadata": {},
     "output_type": "execute_result"
    }
   ],
   "source": [
    "liaison.loc[liaison['product_id'].duplicated(keep=False),:]"
   ]
  },
  {
   "attachments": {},
   "cell_type": "markdown",
   "metadata": {},
   "source": [
    "Pas de doublons sur les product_id."
   ]
  },
  {
   "cell_type": "code",
   "execution_count": 19,
   "metadata": {},
   "outputs": [
    {
     "data": {
      "text/html": [
       "<div>\n",
       "<style scoped>\n",
       "    .dataframe tbody tr th:only-of-type {\n",
       "        vertical-align: middle;\n",
       "    }\n",
       "\n",
       "    .dataframe tbody tr th {\n",
       "        vertical-align: top;\n",
       "    }\n",
       "\n",
       "    .dataframe thead th {\n",
       "        text-align: right;\n",
       "    }\n",
       "</style>\n",
       "<table border=\"1\" class=\"dataframe\">\n",
       "  <thead>\n",
       "    <tr style=\"text-align: right;\">\n",
       "      <th></th>\n",
       "      <th>product_id</th>\n",
       "      <th>id_web</th>\n",
       "    </tr>\n",
       "  </thead>\n",
       "  <tbody>\n",
       "    <tr>\n",
       "      <th>19</th>\n",
       "      <td>4055</td>\n",
       "      <td>NaN</td>\n",
       "    </tr>\n",
       "    <tr>\n",
       "      <th>49</th>\n",
       "      <td>4090</td>\n",
       "      <td>NaN</td>\n",
       "    </tr>\n",
       "    <tr>\n",
       "      <th>50</th>\n",
       "      <td>4092</td>\n",
       "      <td>NaN</td>\n",
       "    </tr>\n",
       "    <tr>\n",
       "      <th>119</th>\n",
       "      <td>4195</td>\n",
       "      <td>NaN</td>\n",
       "    </tr>\n",
       "    <tr>\n",
       "      <th>131</th>\n",
       "      <td>4209</td>\n",
       "      <td>NaN</td>\n",
       "    </tr>\n",
       "    <tr>\n",
       "      <th>...</th>\n",
       "      <td>...</td>\n",
       "      <td>...</td>\n",
       "    </tr>\n",
       "    <tr>\n",
       "      <th>817</th>\n",
       "      <td>7196</td>\n",
       "      <td>NaN</td>\n",
       "    </tr>\n",
       "    <tr>\n",
       "      <th>818</th>\n",
       "      <td>7200</td>\n",
       "      <td>NaN</td>\n",
       "    </tr>\n",
       "    <tr>\n",
       "      <th>819</th>\n",
       "      <td>7201</td>\n",
       "      <td>NaN</td>\n",
       "    </tr>\n",
       "    <tr>\n",
       "      <th>820</th>\n",
       "      <td>7203</td>\n",
       "      <td>NaN</td>\n",
       "    </tr>\n",
       "    <tr>\n",
       "      <th>821</th>\n",
       "      <td>7204</td>\n",
       "      <td>NaN</td>\n",
       "    </tr>\n",
       "  </tbody>\n",
       "</table>\n",
       "<p>91 rows × 2 columns</p>\n",
       "</div>"
      ],
      "text/plain": [
       "     product_id id_web\n",
       "19         4055    NaN\n",
       "49         4090    NaN\n",
       "50         4092    NaN\n",
       "119        4195    NaN\n",
       "131        4209    NaN\n",
       "..          ...    ...\n",
       "817        7196    NaN\n",
       "818        7200    NaN\n",
       "819        7201    NaN\n",
       "820        7203    NaN\n",
       "821        7204    NaN\n",
       "\n",
       "[91 rows x 2 columns]"
      ]
     },
     "execution_count": 19,
     "metadata": {},
     "output_type": "execute_result"
    }
   ],
   "source": [
    "liaison.loc[liaison['id_web'].duplicated(keep=False),:]"
   ]
  },
  {
   "attachments": {},
   "cell_type": "markdown",
   "metadata": {},
   "source": [
    "91 doublons, correspondants au 91 valeurs manquantes."
   ]
  },
  {
   "cell_type": "code",
   "execution_count": 20,
   "metadata": {},
   "outputs": [
    {
     "data": {
      "text/plain": [
       "product_id    825\n",
       "id_web        734\n",
       "dtype: int64"
      ]
     },
     "execution_count": 20,
     "metadata": {},
     "output_type": "execute_result"
    }
   ],
   "source": [
    "liaison.count()"
   ]
  },
  {
   "attachments": {},
   "cell_type": "markdown",
   "metadata": {},
   "source": [
    "**Liste des produits sans *id_web***"
   ]
  },
  {
   "cell_type": "code",
   "execution_count": 21,
   "metadata": {},
   "outputs": [
    {
     "name": "stdout",
     "output_type": "stream",
     "text": [
      "[4055, 4090, 4092, 4195, 4209, 4233, 4278, 4279, 4565, 4577, 4578, 4594, 4599, 4659, 4692, 4693, 4697, 4698, 4702, 4721, 4738, 4744, 4798, 4874, 4911, 4973, 5017, 5020, 5070, 5075, 5560, 5569, 5805, 5808, 5952, 6125, 6324, 6327, 6594, 6821, 6824, 6825, 6826, 6864, 6866, 6869, 6875, 6898, 6899, 6900, 6901, 6902, 6903, 6904, 6905, 6906, 6907, 6908, 6909, 7008, 7009, 7010, 7015, 7081, 7084, 7085, 7086, 7087, 7088, 7131, 7132, 7133, 7136, 7137, 7159, 7161, 7162, 7163, 7164, 7168, 7169, 7170, 7192, 7193, 7194, 7195, 7196, 7200, 7201, 7203, 7204]\n"
     ]
    }
   ],
   "source": [
    "liaison_na = liaison[liaison.isna().any(axis=1)]\n",
    "liaison_na = liaison_na[liaison_na[\"id_web\"].isnull()]\n",
    "print(liaison_na[\"product_id\"].tolist())"
   ]
  },
  {
   "cell_type": "code",
   "execution_count": 22,
   "metadata": {},
   "outputs": [
    {
     "data": {
      "text/plain": [
       "product_id    91\n",
       "id_web         0\n",
       "dtype: int64"
      ]
     },
     "execution_count": 22,
     "metadata": {},
     "output_type": "execute_result"
    }
   ],
   "source": [
    "liaison_na.count()"
   ]
  },
  {
   "attachments": {},
   "cell_type": "markdown",
   "metadata": {},
   "source": [
    "Retour au [sommaire](#sommaire)"
   ]
  },
  {
   "attachments": {},
   "cell_type": "markdown",
   "metadata": {},
   "source": [
    "## 2. Analyse du Chiffre d'Affaire <a class=\"anchor\" id=\"analyse_ca\">"
   ]
  },
  {
   "attachments": {},
   "cell_type": "markdown",
   "metadata": {},
   "source": [
    "### 2.1. Liaison des tables <a class=\"anchor\" id=\"liaison_tables\"></a>"
   ]
  },
  {
   "attachments": {},
   "cell_type": "markdown",
   "metadata": {},
   "source": [
    "Liaison externe pour analyse des mismatch"
   ]
  },
  {
   "cell_type": "code",
   "execution_count": 23,
   "metadata": {},
   "outputs": [
    {
     "data": {
      "text/plain": [
       "(825, 33)"
      ]
     },
     "execution_count": 23,
     "metadata": {},
     "output_type": "execute_result"
    }
   ],
   "source": [
    "#On renomme l'id_web pour pouvoir lier les tables\n",
    "liaison.rename(columns={\"id_web\":\"sku\"}, inplace=True)\n",
    "\n",
    "erp_liaison = pd.merge(erp ,liaison, on = 'product_id', how = 'outer')\n",
    "data = pd.merge(erp_liaison , web, on = 'sku', how ='outer')\n",
    "\n",
    "data.shape"
   ]
  },
  {
   "cell_type": "code",
   "execution_count": 24,
   "metadata": {},
   "outputs": [
    {
     "name": "stdout",
     "output_type": "stream",
     "text": [
      "product_id                 0\n",
      "onsale_web                 0\n",
      "price                      0\n",
      "stock_quantity             0\n",
      "stock_status               0\n",
      "sku                       91\n",
      "virtual                  111\n",
      "downloadable             111\n",
      "rating_count             111\n",
      "average_rating           111\n",
      "total_sales              111\n",
      "tax_status               111\n",
      "tax_class                825\n",
      "post_author              111\n",
      "post_date                111\n",
      "post_date_gmt            111\n",
      "post_content             825\n",
      "post_title               111\n",
      "post_excerpt             111\n",
      "post_status              111\n",
      "comment_status           111\n",
      "ping_status              111\n",
      "post_password            825\n",
      "post_name                111\n",
      "post_modified            111\n",
      "post_modified_gmt        111\n",
      "post_content_filtered    825\n",
      "post_parent              111\n",
      "guid                     111\n",
      "menu_order               111\n",
      "post_type                111\n",
      "post_mime_type           825\n",
      "comment_count            111\n",
      "dtype: int64\n"
     ]
    }
   ],
   "source": [
    "print(data.isnull().sum())"
   ]
  },
  {
   "attachments": {},
   "cell_type": "markdown",
   "metadata": {},
   "source": [
    "825 lignes, 91 valeurs *'sku'* nulles correspondant aux 91 nulles de la table **liaison**.\\\n",
    "20 nouvelles valeurs nulles pour *'total_sales'*"
   ]
  },
  {
   "cell_type": "code",
   "execution_count": 25,
   "metadata": {},
   "outputs": [
    {
     "data": {
      "text/plain": [
       "(734, 33)"
      ]
     },
     "execution_count": 25,
     "metadata": {},
     "output_type": "execute_result"
    }
   ],
   "source": [
    "data = data[data['sku'].notnull()]\n",
    "data.shape"
   ]
  },
  {
   "cell_type": "code",
   "execution_count": 26,
   "metadata": {},
   "outputs": [
    {
     "name": "stdout",
     "output_type": "stream",
     "text": [
      "     product_id  onsale_web  price  stock_quantity stock_status      sku  \\\n",
      "276        4289           0   22.8               0   outofstock    13771   \n",
      "318        4568           0   21.5               0   outofstock    15065   \n",
      "321        4584           0   32.3               0   outofstock    14785   \n",
      "425        4741           0   12.4               0   outofstock    12601   \n",
      "459        4864           0    8.3               0   outofstock    15154   \n",
      "462        4869           0   17.2               0   outofstock    14360   \n",
      "490        4921           0   13.8               0   outofstock    15608   \n",
      "491        4922           0   21.5               0   outofstock    15586   \n",
      "534        5018           0   15.4               0   outofstock    15272   \n",
      "536        5021           0   17.1               0   outofstock    15630   \n",
      "584        5505           0   10.1               0   outofstock    14648   \n",
      "601        5559           0   27.9               3      instock    14715   \n",
      "607        5570           0   22.5               0   outofstock    14730   \n",
      "672        5800           0   32.3               0   outofstock    14689   \n",
      "716        5953           0   47.5               0   outofstock    14379   \n",
      "717        5954           0   18.8               0   outofstock    15609   \n",
      "718        5955           0   27.3               0   outofstock    14377   \n",
      "720        5957           0   39.0               0   outofstock    13577   \n",
      "743        6100           0   12.9               0   outofstock    15529   \n",
      "823        7329           0   26.5              14      instock  14680-1   \n",
      "\n",
      "     virtual  downloadable  rating_count  average_rating  ...  post_name  \\\n",
      "276      NaN           NaN           NaN             NaN  ...        NaN   \n",
      "318      NaN           NaN           NaN             NaN  ...        NaN   \n",
      "321      NaN           NaN           NaN             NaN  ...        NaN   \n",
      "425      NaN           NaN           NaN             NaN  ...        NaN   \n",
      "459      NaN           NaN           NaN             NaN  ...        NaN   \n",
      "462      NaN           NaN           NaN             NaN  ...        NaN   \n",
      "490      NaN           NaN           NaN             NaN  ...        NaN   \n",
      "491      NaN           NaN           NaN             NaN  ...        NaN   \n",
      "534      NaN           NaN           NaN             NaN  ...        NaN   \n",
      "536      NaN           NaN           NaN             NaN  ...        NaN   \n",
      "584      NaN           NaN           NaN             NaN  ...        NaN   \n",
      "601      NaN           NaN           NaN             NaN  ...        NaN   \n",
      "607      NaN           NaN           NaN             NaN  ...        NaN   \n",
      "672      NaN           NaN           NaN             NaN  ...        NaN   \n",
      "716      NaN           NaN           NaN             NaN  ...        NaN   \n",
      "717      NaN           NaN           NaN             NaN  ...        NaN   \n",
      "718      NaN           NaN           NaN             NaN  ...        NaN   \n",
      "720      NaN           NaN           NaN             NaN  ...        NaN   \n",
      "743      NaN           NaN           NaN             NaN  ...        NaN   \n",
      "823      NaN           NaN           NaN             NaN  ...        NaN   \n",
      "\n",
      "    post_modified  post_modified_gmt  post_content_filtered post_parent guid  \\\n",
      "276           NaT                NaT                    NaN         NaN  NaN   \n",
      "318           NaT                NaT                    NaN         NaN  NaN   \n",
      "321           NaT                NaT                    NaN         NaN  NaN   \n",
      "425           NaT                NaT                    NaN         NaN  NaN   \n",
      "459           NaT                NaT                    NaN         NaN  NaN   \n",
      "462           NaT                NaT                    NaN         NaN  NaN   \n",
      "490           NaT                NaT                    NaN         NaN  NaN   \n",
      "491           NaT                NaT                    NaN         NaN  NaN   \n",
      "534           NaT                NaT                    NaN         NaN  NaN   \n",
      "536           NaT                NaT                    NaN         NaN  NaN   \n",
      "584           NaT                NaT                    NaN         NaN  NaN   \n",
      "601           NaT                NaT                    NaN         NaN  NaN   \n",
      "607           NaT                NaT                    NaN         NaN  NaN   \n",
      "672           NaT                NaT                    NaN         NaN  NaN   \n",
      "716           NaT                NaT                    NaN         NaN  NaN   \n",
      "717           NaT                NaT                    NaN         NaN  NaN   \n",
      "718           NaT                NaT                    NaN         NaN  NaN   \n",
      "720           NaT                NaT                    NaN         NaN  NaN   \n",
      "743           NaT                NaT                    NaN         NaN  NaN   \n",
      "823           NaT                NaT                    NaN         NaN  NaN   \n",
      "\n",
      "     menu_order post_type post_mime_type comment_count  \n",
      "276         NaN       NaN            NaN           NaN  \n",
      "318         NaN       NaN            NaN           NaN  \n",
      "321         NaN       NaN            NaN           NaN  \n",
      "425         NaN       NaN            NaN           NaN  \n",
      "459         NaN       NaN            NaN           NaN  \n",
      "462         NaN       NaN            NaN           NaN  \n",
      "490         NaN       NaN            NaN           NaN  \n",
      "491         NaN       NaN            NaN           NaN  \n",
      "534         NaN       NaN            NaN           NaN  \n",
      "536         NaN       NaN            NaN           NaN  \n",
      "584         NaN       NaN            NaN           NaN  \n",
      "601         NaN       NaN            NaN           NaN  \n",
      "607         NaN       NaN            NaN           NaN  \n",
      "672         NaN       NaN            NaN           NaN  \n",
      "716         NaN       NaN            NaN           NaN  \n",
      "717         NaN       NaN            NaN           NaN  \n",
      "718         NaN       NaN            NaN           NaN  \n",
      "720         NaN       NaN            NaN           NaN  \n",
      "743         NaN       NaN            NaN           NaN  \n",
      "823         NaN       NaN            NaN           NaN  \n",
      "\n",
      "[20 rows x 33 columns]\n"
     ]
    }
   ],
   "source": [
    "data_na = data[(data['total_sales'].isna())]\n",
    "print(data_na)"
   ]
  },
  {
   "attachments": {},
   "cell_type": "markdown",
   "metadata": {},
   "source": [
    "Les 20 Valeurs manquantes correspondent donc à 20 items présents dans la table de **liaison**, ayant dans la table **ERP** la valeur 0 dans la colonne *'onsale_web'* et absents de la table **web**.\\\n",
    "Nous avons donc 825 lignes, avec 111 lignes pouvant être supprimées pour réaliser l'analyse du chiffre d'affaires, soit 714 lignes à analyser ."
   ]
  },
  {
   "attachments": {},
   "cell_type": "markdown",
   "metadata": {},
   "source": [
    "### 2.2. Calcul du Chiffre d'affaire <a class=\"anchor\" id=\"calcu_ca\"></a>"
   ]
  },
  {
   "cell_type": "code",
   "execution_count": 27,
   "metadata": {},
   "outputs": [],
   "source": [
    "data['CA']  = data['price']*data['total_sales']"
   ]
  },
  {
   "attachments": {},
   "cell_type": "markdown",
   "metadata": {},
   "source": [
    "**Chiffre d'Affaire total**"
   ]
  },
  {
   "cell_type": "code",
   "execution_count": 28,
   "metadata": {},
   "outputs": [
    {
     "name": "stdout",
     "output_type": "stream",
     "text": [
      "Le chiffre d'affaire total réalisé par la boutique en ligne est de 70568.6 €.\n"
     ]
    }
   ],
   "source": [
    "print (f\"Le chiffre d'affaire total réalisé par la boutique en ligne est de {round(data['CA'].sum(),2)} €.\")"
   ]
  },
  {
   "attachments": {},
   "cell_type": "markdown",
   "metadata": {},
   "source": [
    "**CA par produit**"
   ]
  },
  {
   "cell_type": "code",
   "execution_count": 29,
   "metadata": {},
   "outputs": [
    {
     "data": {
      "text/plain": [
       "Text(0.5, 1.0, 'CA par Produit')"
      ]
     },
     "execution_count": 29,
     "metadata": {},
     "output_type": "execute_result"
    },
    {
     "data": {
      "image/png": "[encoded data removed]",
      "text/plain": [
       "<Figure size 640x480 with 1 Axes>"
      ]
     },
     "metadata": {},
     "output_type": "display_data"
    }
   ],
   "source": [
    "#On sélectionne les produits ayant été vendu au moins 1 fois.\n",
    "data_ca = data.loc[data['total_sales']>0, ['product_id', 'price', 'total_sales', 'CA']]\n",
    "sns.scatterplot(x = data_ca['product_id'], y = data_ca['CA'], data = data_ca, hue = 'total_sales')\n",
    "plt.title(\"CA par Produit\" , fontsize = 14)"
   ]
  },
  {
   "cell_type": "code",
   "execution_count": 30,
   "metadata": {},
   "outputs": [
    {
     "data": {
      "text/plain": [
       "(385, 4)"
      ]
     },
     "execution_count": 30,
     "metadata": {},
     "output_type": "execute_result"
    }
   ],
   "source": [
    "data_ca.shape"
   ]
  },
  {
   "attachments": {},
   "cell_type": "markdown",
   "metadata": {},
   "source": [
    "*Top 10 des ventes (au niveau du CA)*"
   ]
  },
  {
   "cell_type": "code",
   "execution_count": 31,
   "metadata": {},
   "outputs": [
    {
     "data": {
      "text/html": [
       "<div>\n",
       "<style scoped>\n",
       "    .dataframe tbody tr th:only-of-type {\n",
       "        vertical-align: middle;\n",
       "    }\n",
       "\n",
       "    .dataframe tbody tr th {\n",
       "        vertical-align: top;\n",
       "    }\n",
       "\n",
       "    .dataframe thead th {\n",
       "        text-align: right;\n",
       "    }\n",
       "</style>\n",
       "<table border=\"1\" class=\"dataframe\">\n",
       "  <thead>\n",
       "    <tr style=\"text-align: right;\">\n",
       "      <th></th>\n",
       "      <th>index</th>\n",
       "      <th>product_id</th>\n",
       "      <th>price</th>\n",
       "      <th>total_sales</th>\n",
       "      <th>CA</th>\n",
       "    </tr>\n",
       "  </thead>\n",
       "  <tbody>\n",
       "    <tr>\n",
       "      <th>0</th>\n",
       "      <td>286</td>\n",
       "      <td>4334</td>\n",
       "      <td>49.0</td>\n",
       "      <td>96.0</td>\n",
       "      <td>4704.0</td>\n",
       "    </tr>\n",
       "    <tr>\n",
       "      <th>1</th>\n",
       "      <td>162</td>\n",
       "      <td>4144</td>\n",
       "      <td>49.0</td>\n",
       "      <td>87.0</td>\n",
       "      <td>4263.0</td>\n",
       "    </tr>\n",
       "    <tr>\n",
       "      <th>2</th>\n",
       "      <td>310</td>\n",
       "      <td>4402</td>\n",
       "      <td>176.0</td>\n",
       "      <td>13.0</td>\n",
       "      <td>2288.0</td>\n",
       "    </tr>\n",
       "    <tr>\n",
       "      <th>3</th>\n",
       "      <td>161</td>\n",
       "      <td>4142</td>\n",
       "      <td>53.0</td>\n",
       "      <td>30.0</td>\n",
       "      <td>1590.0</td>\n",
       "    </tr>\n",
       "    <tr>\n",
       "      <th>4</th>\n",
       "      <td>160</td>\n",
       "      <td>4141</td>\n",
       "      <td>39.0</td>\n",
       "      <td>40.0</td>\n",
       "      <td>1560.0</td>\n",
       "    </tr>\n",
       "    <tr>\n",
       "      <th>5</th>\n",
       "      <td>293</td>\n",
       "      <td>4355</td>\n",
       "      <td>126.5</td>\n",
       "      <td>11.0</td>\n",
       "      <td>1391.5</td>\n",
       "    </tr>\n",
       "    <tr>\n",
       "      <th>6</th>\n",
       "      <td>291</td>\n",
       "      <td>4352</td>\n",
       "      <td>225.0</td>\n",
       "      <td>5.0</td>\n",
       "      <td>1125.0</td>\n",
       "    </tr>\n",
       "    <tr>\n",
       "      <th>7</th>\n",
       "      <td>170</td>\n",
       "      <td>4153</td>\n",
       "      <td>29.0</td>\n",
       "      <td>36.0</td>\n",
       "      <td>1044.0</td>\n",
       "    </tr>\n",
       "    <tr>\n",
       "      <th>8</th>\n",
       "      <td>761</td>\n",
       "      <td>6206</td>\n",
       "      <td>25.2</td>\n",
       "      <td>41.0</td>\n",
       "      <td>1033.2</td>\n",
       "    </tr>\n",
       "    <tr>\n",
       "      <th>9</th>\n",
       "      <td>121</td>\n",
       "      <td>4068</td>\n",
       "      <td>16.6</td>\n",
       "      <td>62.0</td>\n",
       "      <td>1029.2</td>\n",
       "    </tr>\n",
       "  </tbody>\n",
       "</table>\n",
       "</div>"
      ],
      "text/plain": [
       "   index  product_id  price  total_sales      CA\n",
       "0    286        4334   49.0         96.0  4704.0\n",
       "1    162        4144   49.0         87.0  4263.0\n",
       "2    310        4402  176.0         13.0  2288.0\n",
       "3    161        4142   53.0         30.0  1590.0\n",
       "4    160        4141   39.0         40.0  1560.0\n",
       "5    293        4355  126.5         11.0  1391.5\n",
       "6    291        4352  225.0          5.0  1125.0\n",
       "7    170        4153   29.0         36.0  1044.0\n",
       "8    761        6206   25.2         41.0  1033.2\n",
       "9    121        4068   16.6         62.0  1029.2"
      ]
     },
     "execution_count": 31,
     "metadata": {},
     "output_type": "execute_result"
    }
   ],
   "source": [
    "data_ca.sort_values('CA', ascending = False).reset_index().head(10)"
   ]
  },
  {
   "attachments": {},
   "cell_type": "markdown",
   "metadata": {},
   "source": [
    "*Top 10 des ventes (au niveau du nombre de ventes)*"
   ]
  },
  {
   "cell_type": "code",
   "execution_count": 32,
   "metadata": {},
   "outputs": [
    {
     "data": {
      "text/html": [
       "<div>\n",
       "<style scoped>\n",
       "    .dataframe tbody tr th:only-of-type {\n",
       "        vertical-align: middle;\n",
       "    }\n",
       "\n",
       "    .dataframe tbody tr th {\n",
       "        vertical-align: top;\n",
       "    }\n",
       "\n",
       "    .dataframe thead th {\n",
       "        text-align: right;\n",
       "    }\n",
       "</style>\n",
       "<table border=\"1\" class=\"dataframe\">\n",
       "  <thead>\n",
       "    <tr style=\"text-align: right;\">\n",
       "      <th></th>\n",
       "      <th>index</th>\n",
       "      <th>product_id</th>\n",
       "      <th>price</th>\n",
       "      <th>total_sales</th>\n",
       "      <th>CA</th>\n",
       "    </tr>\n",
       "  </thead>\n",
       "  <tbody>\n",
       "    <tr>\n",
       "      <th>0</th>\n",
       "      <td>286</td>\n",
       "      <td>4334</td>\n",
       "      <td>49.0</td>\n",
       "      <td>96.0</td>\n",
       "      <td>4704.0</td>\n",
       "    </tr>\n",
       "    <tr>\n",
       "      <th>1</th>\n",
       "      <td>162</td>\n",
       "      <td>4144</td>\n",
       "      <td>49.0</td>\n",
       "      <td>87.0</td>\n",
       "      <td>4263.0</td>\n",
       "    </tr>\n",
       "    <tr>\n",
       "      <th>2</th>\n",
       "      <td>121</td>\n",
       "      <td>4068</td>\n",
       "      <td>16.6</td>\n",
       "      <td>62.0</td>\n",
       "      <td>1029.2</td>\n",
       "    </tr>\n",
       "    <tr>\n",
       "      <th>3</th>\n",
       "      <td>210</td>\n",
       "      <td>4200</td>\n",
       "      <td>5.8</td>\n",
       "      <td>46.0</td>\n",
       "      <td>266.8</td>\n",
       "    </tr>\n",
       "    <tr>\n",
       "      <th>4</th>\n",
       "      <td>188</td>\n",
       "      <td>4172</td>\n",
       "      <td>5.7</td>\n",
       "      <td>43.0</td>\n",
       "      <td>245.1</td>\n",
       "    </tr>\n",
       "    <tr>\n",
       "      <th>5</th>\n",
       "      <td>200</td>\n",
       "      <td>4187</td>\n",
       "      <td>13.3</td>\n",
       "      <td>42.0</td>\n",
       "      <td>558.6</td>\n",
       "    </tr>\n",
       "    <tr>\n",
       "      <th>6</th>\n",
       "      <td>761</td>\n",
       "      <td>6206</td>\n",
       "      <td>25.2</td>\n",
       "      <td>41.0</td>\n",
       "      <td>1033.2</td>\n",
       "    </tr>\n",
       "    <tr>\n",
       "      <th>7</th>\n",
       "      <td>160</td>\n",
       "      <td>4141</td>\n",
       "      <td>39.0</td>\n",
       "      <td>40.0</td>\n",
       "      <td>1560.0</td>\n",
       "    </tr>\n",
       "    <tr>\n",
       "      <th>8</th>\n",
       "      <td>418</td>\n",
       "      <td>4729</td>\n",
       "      <td>8.6</td>\n",
       "      <td>38.0</td>\n",
       "      <td>326.8</td>\n",
       "    </tr>\n",
       "    <tr>\n",
       "      <th>9</th>\n",
       "      <td>734</td>\n",
       "      <td>6047</td>\n",
       "      <td>10.9</td>\n",
       "      <td>38.0</td>\n",
       "      <td>414.2</td>\n",
       "    </tr>\n",
       "  </tbody>\n",
       "</table>\n",
       "</div>"
      ],
      "text/plain": [
       "   index  product_id  price  total_sales      CA\n",
       "0    286        4334   49.0         96.0  4704.0\n",
       "1    162        4144   49.0         87.0  4263.0\n",
       "2    121        4068   16.6         62.0  1029.2\n",
       "3    210        4200    5.8         46.0   266.8\n",
       "4    188        4172    5.7         43.0   245.1\n",
       "5    200        4187   13.3         42.0   558.6\n",
       "6    761        6206   25.2         41.0  1033.2\n",
       "7    160        4141   39.0         40.0  1560.0\n",
       "8    418        4729    8.6         38.0   326.8\n",
       "9    734        6047   10.9         38.0   414.2"
      ]
     },
     "execution_count": 32,
     "metadata": {},
     "output_type": "execute_result"
    }
   ],
   "source": [
    "data_ca.sort_values('total_sales', ascending = False).reset_index().head(10)"
   ]
  },
  {
   "attachments": {},
   "cell_type": "markdown",
   "metadata": {},
   "source": [
    "## 3. Analyse univariée de 'Price'<a class=\"anchor\" id=\"analyse_uni\">"
   ]
  },
  {
   "attachments": {},
   "cell_type": "markdown",
   "metadata": {},
   "source": [
    "### 3.1. Analyse statistique"
   ]
  },
  {
   "attachments": {},
   "cell_type": "markdown",
   "metadata": {},
   "source": [
    "Nous choisissons de travailler sur la table ERP qui recense tous les prix."
   ]
  },
  {
   "cell_type": "code",
   "execution_count": 33,
   "metadata": {},
   "outputs": [
    {
     "name": "stdout",
     "output_type": "stream",
     "text": [
      "Pour le prix, 825 valeurs sont référencées.\n",
      "La valeur minimale est de 5.2 €, la valeur maximale est de 225.0 €.\n",
      "La moyenne est de 32.42€ et la médiane de 24.4€.\n",
      "le mode est de 0    45.0\n",
      "Name: price, dtype: float64\n",
      "variance empirique : 718.0175343336275,Variance empirique corrigée : 717.1472100495868\n",
      "ecart-type : 26.779604366935423, le coefficiant de variation est de 0.8266334462515728\n"
     ]
    }
   ],
   "source": [
    "print(f\"Pour le prix, {len(erp['price'])} valeurs sont référencées.\")\n",
    "print(f\"La valeur minimale est de {erp['price'].min()} €, la valeur maximale est de {erp['price'].max()} €.\")\n",
    "print(f\"La moyenne est de {round(erp['price'].mean(),2)}€ et la médiane de {round(erp['price'].median(),2)}€.\")\n",
    "print(f\"le mode est de {erp['price'].mode()}\")\n",
    "print(f\"variance empirique : {erp['price'].var()},Variance empirique corrigée : {erp['price'].var(ddof=0)}\\necart-type : {erp['price'].std(ddof=0)}, le coefficiant de variation est de {(erp['price'].std()/erp['price'].mean())}\") "
   ]
  },
  {
   "cell_type": "code",
   "execution_count": 34,
   "metadata": {},
   "outputs": [
    {
     "name": "stdout",
     "output_type": "stream",
     "text": [
      "Skewness : 2.6227973685638717, donc la moyenne est plus importante que la médiane.\n",
      "kurtosis : 10.615358266001198\n"
     ]
    }
   ],
   "source": [
    "print(f\"Skewness : {erp['price'].skew()}, donc la moyenne est plus importante que la médiane.\\nkurtosis : {erp['price'].kurtosis()}\")"
   ]
  },
  {
   "attachments": {},
   "cell_type": "markdown",
   "metadata": {},
   "source": [
    "### 3.2. Rerpésentations graphiques"
   ]
  },
  {
   "cell_type": "code",
   "execution_count": 35,
   "metadata": {},
   "outputs": [
    {
     "data": {
      "text/plain": [
       "Text(0.5, 1.0, 'Distribution des prix')"
      ]
     },
     "execution_count": 35,
     "metadata": {},
     "output_type": "execute_result"
    },
    {
     "data": {
      "image/png": "[encoded data removed]",
      "text/plain": [
       "<Figure size 500x500 with 1 Axes>"
      ]
     },
     "metadata": {},
     "output_type": "display_data"
    }
   ],
   "source": [
    "sns.displot(erp, x='price', kde=True)\n",
    "plt.title(\"Distribution des prix\" , fontsize = 14)"
   ]
  },
  {
   "cell_type": "code",
   "execution_count": 36,
   "metadata": {},
   "outputs": [
    {
     "data": {
      "text/plain": [
       "Text(0.5, 1.0, 'Représentation en Boite à Moustaches')"
      ]
     },
     "execution_count": 36,
     "metadata": {},
     "output_type": "execute_result"
    },
    {
     "data": {
      "image/png": "[encoded data removed]",
      "text/plain": [
       "<Figure size 640x480 with 1 Axes>"
      ]
     },
     "metadata": {},
     "output_type": "display_data"
    }
   ],
   "source": [
    "sns.boxplot(erp,x=\"price\",showmeans=True)\n",
    "plt.title(\"Représentation en Boite à Moustaches\" , fontsize = 14)"
   ]
  },
  {
   "attachments": {},
   "cell_type": "markdown",
   "metadata": {},
   "source": [
    "**Denombrement des outliers**"
   ]
  },
  {
   "cell_type": "code",
   "execution_count": 37,
   "metadata": {},
   "outputs": [
    {
     "name": "stdout",
     "output_type": "stream",
     "text": [
      "-26.499999999999993\n",
      "83.1\n"
     ]
    }
   ],
   "source": [
    "q1=erp['price'].quantile(.25)\n",
    "q3=erp['price'].quantile(.75)\n",
    "iqr = q3-q1\n",
    "low_outlier=q1-1.5*iqr\n",
    "high_outlier=q3+1.5*iqr\n",
    "print(low_outlier)\n",
    "print(high_outlier)"
   ]
  },
  {
   "cell_type": "code",
   "execution_count": 38,
   "metadata": {},
   "outputs": [
    {
     "data": {
      "text/plain": [
       "product_id        0\n",
       "onsale_web        0\n",
       "price             0\n",
       "stock_quantity    0\n",
       "stock_status      0\n",
       "dtype: int64"
      ]
     },
     "execution_count": 38,
     "metadata": {},
     "output_type": "execute_result"
    }
   ],
   "source": [
    "erp[erp[\"price\"]<low_outlier].count()"
   ]
  },
  {
   "cell_type": "code",
   "execution_count": 39,
   "metadata": {},
   "outputs": [
    {
     "data": {
      "text/plain": [
       "product_id        37\n",
       "onsale_web        37\n",
       "price             37\n",
       "stock_quantity    37\n",
       "stock_status      37\n",
       "dtype: int64"
      ]
     },
     "execution_count": 39,
     "metadata": {},
     "output_type": "execute_result"
    }
   ],
   "source": [
    "erp[erp['price']>high_outlier].count()"
   ]
  },
  {
   "cell_type": "code",
   "execution_count": 40,
   "metadata": {},
   "outputs": [
    {
     "name": "stdout",
     "output_type": "stream",
     "text": [
      "Les outliers sont au nombre de 37. \n",
      "Ils représentent 4.48% de l'effectif.\n"
     ]
    }
   ],
   "source": [
    "print(f\"Les outliers sont au nombre de {(len(erp[erp['price']>high_outlier])+len(erp[erp['price']<low_outlier]))}. \\nIls représentent {round((len(erp[erp['price']>high_outlier])+len(erp[erp['price']<low_outlier]))/len(erp['price'])*100,2)}% de l'effectif.\")"
   ]
  },
  {
   "attachments": {},
   "cell_type": "markdown",
   "metadata": {},
   "source": [
    "### 3.3. Comparons les prix avec un autre site de vins et spiritueux"
   ]
  },
  {
   "cell_type": "code",
   "execution_count": 41,
   "metadata": {},
   "outputs": [],
   "source": [
    "from bs4 import BeautifulSoup\n",
    "import requests\n",
    "import re\n",
    "from collections import defaultdict"
   ]
  },
  {
   "cell_type": "code",
   "execution_count": 42,
   "metadata": {},
   "outputs": [
    {
     "data": {
      "text/plain": [
       "(674, 1)"
      ]
     },
     "execution_count": 42,
     "metadata": {},
     "output_type": "execute_result"
    }
   ],
   "source": [
    "dict_prices = defaultdict(list)\n",
    "for page in range(1, 31):\n",
    "\turl = f\"https://www.intercaves.fr/e-boutique/page/{page}#\"\n",
    "\tpage = requests.get(url).text\n",
    "\tdoc = BeautifulSoup(page, \"html.parser\")\n",
    "\tdiv = doc.find(class_=\"list-products__products\")\n",
    "\tprices = div.find_all(text=re.compile('€'))\n",
    "\tdict_prices['prices'] = [*dict_prices['prices'],*prices]\n",
    "df_prices = pd.DataFrame.from_dict(dict_prices)\n",
    "df_prices['prices'] = df_prices['prices'].str.rstrip(' €')\n",
    "df_prices['prices'] = df_prices['prices'].str.replace(',','.').astype(float)\n",
    "df_prices.shape"
   ]
  },
  {
   "cell_type": "code",
   "execution_count": 43,
   "metadata": {},
   "outputs": [
    {
     "name": "stdout",
     "output_type": "stream",
     "text": [
      "Pour le prix, 674 valeurs sont référencées.\n",
      "La valeur minimale est de 3.6 €, la valeur maximale est de 410.0 €.\n",
      "La moyenne est de 42.73€ et la médiane de 39.9€.\n",
      "le mode est de 0    49.9\n",
      "Name: prices, dtype: float64\n",
      "variance empirique : 885.3769465522639,Variance empirique corrigée : 884.0633309045603\n",
      "ecart-type : 29.733202499975686, le coefficiant de variation est de 0.6963708150054447\n",
      "Skewness : 3.9029750366399867, donc la moyenne est plus importante que la médiane.\n",
      "kurtosis : 38.05454457161448\n"
     ]
    }
   ],
   "source": [
    "print(f\"Pour le prix, {len(df_prices['prices'])} valeurs sont référencées.\")\n",
    "print(f\"La valeur minimale est de {df_prices['prices'].min()} €, la valeur maximale est de {df_prices['prices'].max()} €.\")\n",
    "print(f\"La moyenne est de {round(df_prices['prices'].mean(),2)}€ et la médiane de {round(df_prices['prices'].median(),2)}€.\")\n",
    "print(f\"le mode est de {df_prices['prices'].mode()}\")\n",
    "print(f\"variance empirique : {df_prices['prices'].var()},Variance empirique corrigée : {df_prices['prices'].var(ddof=0)}\\necart-type : {df_prices['prices'].std(ddof=0)}, le coefficiant de variation est de {df_prices['prices'].std()/df_prices['prices'].mean()}\") \n",
    "print(f\"Skewness : {df_prices['prices'].skew()}, donc la moyenne est plus importante que la médiane.\\nkurtosis : {df_prices['prices'].kurtosis()}\")"
   ]
  },
  {
   "cell_type": "code",
   "execution_count": 44,
   "metadata": {},
   "outputs": [
    {
     "data": {
      "text/plain": [
       "Text(0.5, 1.0, 'Distribution des prix')"
      ]
     },
     "execution_count": 44,
     "metadata": {},
     "output_type": "execute_result"
    },
    {
     "data": {
      "image/png": "[encoded data removed]",
      "text/plain": [
       "<Figure size 500x500 with 1 Axes>"
      ]
     },
     "metadata": {},
     "output_type": "display_data"
    }
   ],
   "source": [
    "sns.displot(df_prices, x='prices', kde=True)\n",
    "plt.title(\"Distribution des prix\" , fontsize = 14)"
   ]
  },
  {
   "cell_type": "code",
   "execution_count": 45,
   "metadata": {},
   "outputs": [
    {
     "data": {
      "text/plain": [
       "Text(0.5, 1.0, 'Distribution des prix')"
      ]
     },
     "execution_count": 45,
     "metadata": {},
     "output_type": "execute_result"
    },
    {
     "data": {
      "image/png": "[encoded data removed]",
      "text/plain": [
       "<Figure size 640x480 with 1 Axes>"
      ]
     },
     "metadata": {},
     "output_type": "display_data"
    }
   ],
   "source": [
    "sns.boxplot(df_prices,x=\"prices\",showmeans=True)\n",
    "plt.title(\"Distribution des prix\" , fontsize = 14)"
   ]
  },
  {
   "cell_type": "code",
   "execution_count": 46,
   "metadata": {},
   "outputs": [
    {
     "name": "stdout",
     "output_type": "stream",
     "text": [
      "Les outliers sont au nombre de 13. \n",
      "Ils représentent 1.93% de l'effectif.\n"
     ]
    }
   ],
   "source": [
    "q1_a=df_prices['prices'].quantile(.25)\n",
    "q3_a=df_prices['prices'].quantile(.75)\n",
    "iqr_a = q3_a-q1_a\n",
    "low_outlier_a=q1_a-1.5*iqr_a\n",
    "high_outlier_a=q3_a+1.5*iqr_a\n",
    "\n",
    "print(f\"Les outliers sont au nombre de {len(df_prices[df_prices['prices']>high_outlier_a])+len(df_prices[df_prices['prices']<low_outlier_a])}. \\nIls représentent {round(((len(df_prices[df_prices['prices']>high_outlier_a])+len(df_prices[df_prices['prices']<low_outlier_a]))/len(df_prices['prices']))*100,2)}% de l'effectif.\")"
   ]
  },
  {
   "attachments": {},
   "cell_type": "markdown",
   "metadata": {},
   "source": [
    "**A voir élément par élément, mais après analyse, il n'y a pas d'erreur apparente au niveau du prix.**"
   ]
  }
 ],
 "metadata": {
  "kernelspec": {
   "display_name": "Python 3",
   "language": "python",
   "name": "python3"
  },
  "language_info": {
   "codemirror_mode": {
    "name": "ipython",
    "version": 3
   },
   "file_extension": ".py",
   "mimetype": "text/x-python",
   "name": "python",
   "nbconvert_exporter": "python",
   "pygments_lexer": "ipython3",
   "version": "3.10.9"
  },
  "orig_nbformat": 4,
  "vscode": {
   "interpreter": {
    "hash": "0262ee828375cdc67a65c99497d4207659d8ac45f92b07aa2fe6a913093f1182"
   }
  }
 },
 "nbformat": 4,
 "nbformat_minor": 2
}
