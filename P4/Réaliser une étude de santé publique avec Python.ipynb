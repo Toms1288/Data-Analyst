{
 "cells": [
  {
   "cell_type": "markdown",
   "metadata": {},
   "source": [
    "# <p align=center> Réalisez une étude de santé publique avec R ou Python <p>"
   ]
  },
  {
   "attachments": {
    "FAO_logo_Blue_3lines_en.png": {
     "image/png": "[encoded data removed]"
    }
   },
   "cell_type": "markdown",
   "metadata": {},
   "source": [
    "Vous avez récemment rejoint une équipe de chercheurs de la Food and Agriculture Organization of the United Nations (FAO), en tant que data analyst.\n",
    "\n",
    "<p align=center><img src=\"https://s41721.pcdn.co/wp-content/uploads/2022/05/FAO_logo_Blue_3lines_en.png\" alt=\"Logo FAO\" title=\"\"><p>\n",
    "\n",
    "\n",
    "Son rôle ? C’est l’un des organes qui composent l’ONU et dont l’objectif est « d’aider à construire un monde libéré de la faim ». \n",
    "\n",
    "Le responsable de l’équipe, Marc, un chercheur en économie de la santé, est particulièrement enthousiaste à l’idée de votre arrivée au sein de son équipe. En effet, ce recrutement tombe à pic car Julien, l'ancien data analyst, a récemment été muté dans une autre équipe, et la vôtre vient de se voir confier la mission de réaliser une étude de grande ampleur sur le thème de la sous-nutrition dans le monde."
   ]
  },
  {
   "cell_type": "markdown",
   "metadata": {},
   "source": [
    "# SOMMAIRE<br> <a class=\"anchor\" id=\"sommaire\"></a>\n",
    "\n",
    "- __[1. Préparation des données](#1-préparation-des-données)__<br>\n",
    "   - [1.1. Nettoyage - Aide Alimentaire](#11-nettoyage---aide-alimentaire)<br>\n",
    "   - [1.2. Nettoyage - Population](#12-nettoyage---population)<br>\n",
    "   - [1.3. Nettoyage - Dispo_alimentaire](#13-nettoyage---dispo_alimentaire)<br>\n",
    "   - [1.4. Nettoyage - Sous_nutrition](#14-nettoyage---sous_nutrition)<br>\n",
    "- __[2. Analyse des données](#2-analyse)__<br>\n",
    "   - [2.1. Demandes de Marc](#21-demandes-de-marc)<br>\n",
    "   - [2.2. Demandes de Julien](#22-demandes-de-julien)<br>\n",
    "   - [2.3. Demandes de Mélanie](#23-demandes-de-melanie)<br>\n"
   ]
  },
  {
   "cell_type": "markdown",
   "metadata": {},
   "source": [
    "## 1. Préparation des données <a class=\"anchor\" id=\"1-préparation-des-données\">\n"
   ]
  },
  {
   "cell_type": "markdown",
   "metadata": {},
   "source": [
    "Import des librairies nécessaires <br>\n",
    "Définition des valeurs de références"
   ]
  },
  {
   "cell_type": "code",
   "execution_count": 1,
   "metadata": {},
   "outputs": [],
   "source": [
    "import pandas as pd\n",
    "import matplotlib.pyplot as plt\n",
    "import matplotlib.patches as mpatches\n",
    "import numpy as np\n",
    "import seaborn as sns\n",
    "sns.set(style=\"darkgrid\")\n",
    "#Choix de l'année de référence\n",
    "annee = 2017"
   ]
  },
  {
   "cell_type": "markdown",
   "metadata": {},
   "source": [
    "Il faut nettoyer les données et rétaplir la cohérance des informations :\n",
    "- dispo / aide ==> Mettre les quantités en milliers de tonnes\n",
    "- insécu / pop ==> Mettre le nombre d'habitants en millions"
   ]
  },
  {
   "cell_type": "markdown",
   "metadata": {},
   "source": [
    "### 1.1. Nettoyage - Aide alimentaire <a class=\"anchor\" id=\"Nettoyage_Aide_alimentaire\"></a>"
   ]
  },
  {
   "cell_type": "code",
   "execution_count": 2,
   "metadata": {
    "scrolled": false
   },
   "outputs": [],
   "source": [
    "#Import du csv\n",
    "aide = pd.read_csv('aide_alimentaire.csv')\n",
    "#Changement des libellés de colonnes\n",
    "aide.rename(columns={\"Valeur\":\"Quantité\"}, inplace=True)\n",
    "aide.rename(columns={\"Pays bénéficiaire\":\"Pays\"}, inplace=True)\n",
    "#Remplacer les NaN par des 0\n",
    "aide = aide.fillna(0)\n",
    "# Conversion de la Quantité en millers de tonnes\n",
    "aide['Quantité'] = aide['Quantité'] / 1e3\n"
   ]
  },
  {
   "cell_type": "markdown",
   "metadata": {},
   "source": [
    "Retour au [sommaire](#sommaire)"
   ]
  },
  {
   "cell_type": "markdown",
   "metadata": {},
   "source": [
    "### 1.2. Nettoyage - Population <a class=\"anchor\" id=\"Nettoyage_population\"></a>"
   ]
  },
  {
   "cell_type": "code",
   "execution_count": 3,
   "metadata": {},
   "outputs": [],
   "source": [
    "#Import du csv\n",
    "pop = pd.read_csv('population.csv')\n",
    "#Changement des libellés de colonnes\n",
    "pop.rename(columns={\"Valeur\":\"Population\"}, inplace=True)\n",
    "pop.rename(columns={\"Zone\":\"Pays\"}, inplace=True)\n",
    "# Mise de la population en million d'habitants\n",
    "pop['Population'] = pop['Population'] / 1e3\n"
   ]
  },
  {
   "cell_type": "markdown",
   "metadata": {},
   "source": [
    "Retour au [sommaire](#sommaire)"
   ]
  },
  {
   "cell_type": "markdown",
   "metadata": {},
   "source": [
    "### 1.3 Nettoyage - Dispo_alimentaire"
   ]
  },
  {
   "cell_type": "code",
   "execution_count": 4,
   "metadata": {},
   "outputs": [],
   "source": [
    "#Import du csv\n",
    "dispo = pd.read_csv('dispo_alimentaire.csv')\n",
    "#Changement des libellés de colonnes\n",
    "dispo.rename(columns={\"Zone\":\"Pays\"}, inplace=True)\n",
    "#Remplacer les NaN par des 0\n",
    "dispo = dispo.fillna(0)\n"
   ]
  },
  {
   "cell_type": "markdown",
   "metadata": {},
   "source": [
    "Retour au [sommaire](#sommaire)"
   ]
  },
  {
   "cell_type": "markdown",
   "metadata": {},
   "source": [
    "### 1.4. Nettoyage - Sous_nutrition"
   ]
  },
  {
   "cell_type": "code",
   "execution_count": 5,
   "metadata": {},
   "outputs": [],
   "source": [
    "#Import du csv\n",
    "sous_nut = pd.read_csv('sous_nutrition.csv')\n",
    "#Changement des libellés de colonnes\n",
    "sous_nut.rename(columns={\"Valeur\":\"Population sousnut\"}, inplace=True)\n",
    "sous_nut.rename(columns={\"Zone\":\"Pays\"}, inplace=True)\n",
    "#Transformation de l'année pour avoir une valeur exploitalbe\n",
    "sous_nut[['Début','Fin']] = sous_nut['Année'].str.split('-', expand=True)\n",
    "\n",
    "var_modif = ['Début', 'Fin']\n",
    "for var in  var_modif:\n",
    "    sous_nut[var] = sous_nut[var].astype(\"int\")\n",
    "\n",
    "sous_nut['Année de Référence'] = (sous_nut['Début'] + sous_nut ['Fin']) /2\n",
    "sous_nut['Année de Référence'] = sous_nut['Année de Référence'].astype('int')\n",
    "\n",
    "#Correction de la donnée population\n",
    "sous_nut.loc[sous_nut['Population sousnut'] == '<0.1', 'Population sousnut'] = 0\n",
    "sous_nut['Population sousnut'] = sous_nut['Population sousnut'].astype(float)\n",
    "\n"
   ]
  },
  {
   "cell_type": "markdown",
   "metadata": {},
   "source": [
    "Retour au [sommaire](#sommaire)"
   ]
  },
  {
   "cell_type": "markdown",
   "metadata": {},
   "source": [
    "## 2. Analyse des données"
   ]
  },
  {
   "cell_type": "markdown",
   "metadata": {},
   "source": [
    "### 2.1. Demandes de Marc"
   ]
  },
  {
   "cell_type": "markdown",
   "metadata": {},
   "source": [
    "#### __Calcul de la proportion de personnes en état de sous-nutrition pour l'année 2017__"
   ]
  },
  {
   "cell_type": "code",
   "execution_count": 6,
   "metadata": {},
   "outputs": [
    {
     "name": "stdout",
     "output_type": "stream",
     "text": [
      "En 2017, la population mondiale est de 7548134111 personnes. Le nombre de personnes en état de sous nutrition est alors de 535700000.\n",
      "Le taux de sous-nutrition mondiale en 2017 est de 7.1 %.\n"
     ]
    }
   ],
   "source": [
    "pop_mondiale = pop.loc[pop['Année']==annee, 'Population'].sum()*1e6\n",
    "\n",
    "sous_nut_mondiale = sous_nut.loc[sous_nut['Année de Référence']==annee, 'Population sousnut'].sum()*1e6\n",
    "\n",
    "ratio_sous_nut = sous_nut_mondiale / pop_mondiale * 100\n",
    "\n",
    "print(f\"En {annee}, la population mondiale est de {round(pop_mondiale)} personnes. Le nombre de personnes en état de sous nutrition est alors de {round(sous_nut_mondiale)}.\")\n",
    "print(f\"Le taux de sous-nutrition mondiale en {annee} est de {ratio_sous_nut.round(1)} %.\")"
   ]
  },
  {
   "cell_type": "markdown",
   "metadata": {},
   "source": [
    "#### __Disponibilité aliementaire mondiale__"
   ]
  },
  {
   "cell_type": "markdown",
   "metadata": {},
   "source": [
    "D'après la FAO, le minimum requis en apport calorique par jour est de 2200 kcal [(source)](#https://www.fao.org/3/y3951f/y3951f04.htm).<br>\n",
    "La consommation moyenne journalière d'un homme est de 2500 kcal. <br>\n",
    "Combien peut-on nourrire d'individus avec la disponibilité alimentaire mondiale ?\n"
   ]
  },
  {
   "cell_type": "code",
   "execution_count": 7,
   "metadata": {},
   "outputs": [
    {
     "name": "stdout",
     "output_type": "stream",
     "text": [
      "La disponibilité alimentaire mondiale est de 7635429388975815.0 kcal pour l'année 2017.\n",
      "Avec cette disponibilité, pour un minimum d'apport calorique journalier de 2200 kcal/jour, la Terre pourrait théoriquement nourrir 9508629376 humains, soit environ 9.509 milliards de personnes. Cela correspont à 125.97% de la population.\n",
      "Si on considère l'apport journalier d'un homme, soit 2500 kcal/jour, la disponibilité alimentaire permettrait de nourrir 8.368 milliards de personnes, c'est-à-dire 110.86% de la population.\n"
     ]
    }
   ],
   "source": [
    "besoin_kcal_minimum = 2200\n",
    "besoin_kcal_homme = 2500\n",
    "#Récuperation de la population mondiale en 2017\n",
    "pop_annee = pop.loc[pop[\"Année\"] == annee]\n",
    "\n",
    "# Merge Pop 2017 et dispo \n",
    "dispo_mondiale = pd.merge(pop_annee, dispo, on = 'Pays', how = 'right')\n",
    "\n",
    "dim = (dispo_mondiale['Disponibilité alimentaire (Kcal/personne/jour)']*dispo_mondiale['Population']*1e6*365).sum()\n",
    "pop_nourrie_max = (dispo_mondiale['Disponibilité alimentaire (Kcal/personne/jour)']*dispo_mondiale['Population']*1e6).sum() /besoin_kcal_minimum\n",
    "pop_nourrie = (dispo_mondiale['Disponibilité alimentaire (Kcal/personne/jour)']*dispo_mondiale['Population']*1e6).sum() /besoin_kcal_homme\n",
    "\n",
    "print(f\"La disponibilité alimentaire mondiale est de {dim} kcal pour l'année {annee}.\")\n",
    "print(f\"Avec cette disponibilité, pour un minimum d'apport calorique journalier de {besoin_kcal_minimum} kcal/jour, la Terre pourrait théoriquement nourrir {round(pop_nourrie_max)} humains, \\\n",
    "soit environ {round(pop_nourrie_max/1e9, 3)} milliards de personnes. Cela correspont à {round(pop_nourrie_max/pop_mondiale*100 , 2)}% de la population.\")\n",
    "print(f\"Si on considère l'apport journalier d'un homme, soit {besoin_kcal_homme} kcal/jour, la disponibilité alimentaire permettrait de nourrir {round(pop_nourrie/1e9, 3)} milliards de personnes, \\\n",
    "c'est-à-dire {round(pop_nourrie/pop_mondiale*100 , 2)}% de la population.\")\n"
   ]
  },
  {
   "cell_type": "markdown",
   "metadata": {},
   "source": [
    ">__Concernant la production végétale__"
   ]
  },
  {
   "cell_type": "code",
   "execution_count": 8,
   "metadata": {},
   "outputs": [
    {
     "name": "stdout",
     "output_type": "stream",
     "text": [
      "La disponibilité intérieure mondiale en végétaux est de 6300178937197865.0 kcal pour l'année 2017.\n",
      "Concernant uniquement les végétaux, pour un minimum d'apport calorique journalier de 2200 kcal/jour, la Terre pourrait théoriquement nourrir 7845801914.319 humains, soit environ 7.846 milliards de personnes, soit 104% de la population.\n",
      "Si on considère l'apport journalier d'un homme, soit 2500 kcal/jour, la disponibilité alimentaire permettrait de nourrir 6.904 milliards de personnes, c'est-à-dire 91.47% de la population.\n"
     ]
    }
   ],
   "source": [
    "dispo_vege = dispo_mondiale.loc[dispo['Origine']=='vegetale']\n",
    "pop_nourrie_max_vege = (dispo_vege['Disponibilité alimentaire (Kcal/personne/jour)']*dispo_vege['Population']*1e6).sum() /besoin_kcal_minimum\n",
    "pop_nourrie_vege = (dispo_vege['Disponibilité alimentaire (Kcal/personne/jour)']*dispo_vege['Population']*1e6).sum() /besoin_kcal_homme\n",
    "divg = (dispo_vege['Disponibilité alimentaire (Kcal/personne/jour)']*dispo_vege['Population']*1e6*365).sum()\n",
    "\n",
    "print(f\"La disponibilité intérieure mondiale en végétaux est de {divg} kcal pour l'année {annee}.\")\n",
    "print(f\"Concernant uniquement les végétaux, pour un minimum d'apport calorique journalier de {round(besoin_kcal_minimum,0)} kcal/jour, la Terre pourrait théoriquement nourrir {round(pop_nourrie_max_vege,3)} humains, \\\n",
    "soit environ {round(pop_nourrie_max_vege/1e9,3)} milliards de personnes, soit {round(pop_nourrie_max_vege/pop_mondiale*100)}% de la population.\")\n",
    "print(f\"Si on considère l'apport journalier d'un homme, soit {besoin_kcal_homme} kcal/jour, la disponibilité alimentaire permettrait de nourrir {round(pop_nourrie_vege/1e9 , 3)} milliards de personnes, \\\n",
    "c'est-à-dire {round(pop_nourrie_vege/pop_mondiale*100 , 2)}% de la population.\")\n"
   ]
  },
  {
   "cell_type": "markdown",
   "metadata": {},
   "source": [
    "#### __Utilisation de la disponibilité interieure mondiale__"
   ]
  },
  {
   "cell_type": "markdown",
   "metadata": {},
   "source": [
    ">__Disponibilité interieure utilisée pour l'alimentation animale__"
   ]
  },
  {
   "cell_type": "code",
   "execution_count": 9,
   "metadata": {},
   "outputs": [
    {
     "name": "stdout",
     "output_type": "stream",
     "text": [
      "L'alimenation animale représente 13.24% de la disponibilité interieure mondiale.\n"
     ]
    }
   ],
   "source": [
    "di_al_animaux = dispo['Aliments pour animaux'].sum()\n",
    "di = dispo['Disponibilité intérieure'].sum()\n",
    "\n",
    "print(f\"L'alimenation animale représente {round(di_al_animaux/di * 100 , 2)}% de la disponibilité interieure mondiale.\")"
   ]
  },
  {
   "cell_type": "markdown",
   "metadata": {},
   "source": [
    ">__Disponibilité interieure perdue__"
   ]
  },
  {
   "cell_type": "code",
   "execution_count": 10,
   "metadata": {},
   "outputs": [
    {
     "name": "stdout",
     "output_type": "stream",
     "text": [
      "4.61% de la disponibilité interieure mondiale est perdue.\n"
     ]
    }
   ],
   "source": [
    "di_pertes = dispo['Pertes'].sum()\n",
    "\n",
    "print(f\"{round(di_pertes/di * 100 , 2)}% de la disponibilité interieure mondiale est perdue.\")"
   ]
  },
  {
   "cell_type": "markdown",
   "metadata": {},
   "source": [
    ">__Disponibilité intérieure utilisée pour l'alimenation humaine__"
   ]
  },
  {
   "cell_type": "code",
   "execution_count": 11,
   "metadata": {},
   "outputs": [
    {
     "name": "stdout",
     "output_type": "stream",
     "text": [
      "49.51% de la disponibilité interieure mondiale sert à l'alimentation humaine.\n"
     ]
    }
   ],
   "source": [
    "di_alimentation_humaine = dispo['Nourriture'].sum()\n",
    "\n",
    "print(f\"{round(di_alimentation_humaine/di * 100 , 2)}% de la disponibilité interieure mondiale sert à l'alimentation humaine.\")"
   ]
  },
  {
   "cell_type": "markdown",
   "metadata": {},
   "source": [
    "Retour au [sommaire](#sommaire)"
   ]
  },
  {
   "cell_type": "markdown",
   "metadata": {},
   "source": [
    "### 2.2 Demandes de Julien"
   ]
  },
  {
   "cell_type": "markdown",
   "metadata": {},
   "source": [
    "#### __2 façons de calculer la disponibilité intérieure__"
   ]
  },
  {
   "cell_type": "code",
   "execution_count": 12,
   "metadata": {},
   "outputs": [],
   "source": [
    "#Calcul de la disponibilité intérieur\n",
    "dispo['DI1'] = dispo['Production'] + dispo['Importations - Quantité'] - dispo['Exportations - Quantité'] + dispo['Variation de stock']\n",
    "dispo['DI2'] = dispo['Aliments pour animaux'] + dispo['Autres Utilisations']+ dispo['Nourriture'] + dispo['Pertes']+ dispo['Semences']+dispo['Traitement']"
   ]
  },
  {
   "cell_type": "code",
   "execution_count": 13,
   "metadata": {},
   "outputs": [
    {
     "name": "stdout",
     "output_type": "stream",
     "text": [
      "Avec la première methode, l'écart est de 0.0009%.\n",
      "Avec la deuxième methode, l'écart est de 0.0487%.\n"
     ]
    }
   ],
   "source": [
    "di1 = dispo['DI1'].sum()\n",
    "di2 = dispo['DI2'].sum()\n",
    "print(f\"Avec la première methode, l'écart est de {round((di1-di)/(di+di1)*100,4)}%.\")\n",
    "print(f\"Avec la deuxième methode, l'écart est de {round((di2-di)/(di+di2)*100,4)}%.\")"
   ]
  },
  {
   "cell_type": "markdown",
   "metadata": {},
   "source": [
    "#### __Utilisation des céréales__"
   ]
  },
  {
   "cell_type": "code",
   "execution_count": 14,
   "metadata": {},
   "outputs": [
    {
     "data": {
      "text/html": [
       "<div>\n",
       "<style scoped>\n",
       "    .dataframe tbody tr th:only-of-type {\n",
       "        vertical-align: middle;\n",
       "    }\n",
       "\n",
       "    .dataframe tbody tr th {\n",
       "        vertical-align: top;\n",
       "    }\n",
       "\n",
       "    .dataframe thead th {\n",
       "        text-align: right;\n",
       "    }\n",
       "</style>\n",
       "<table border=\"1\" class=\"dataframe\">\n",
       "  <thead>\n",
       "    <tr style=\"text-align: right;\">\n",
       "      <th></th>\n",
       "      <th>Produit</th>\n",
       "      <th>Aliments pour animaux</th>\n",
       "      <th>Nourriture</th>\n",
       "      <th>Différence</th>\n",
       "    </tr>\n",
       "  </thead>\n",
       "  <tbody>\n",
       "    <tr>\n",
       "      <th>52</th>\n",
       "      <td>Maïs</td>\n",
       "      <td>546116.0</td>\n",
       "      <td>125184.0</td>\n",
       "      <td>-420932.0</td>\n",
       "    </tr>\n",
       "    <tr>\n",
       "      <th>62</th>\n",
       "      <td>Orge</td>\n",
       "      <td>92658.0</td>\n",
       "      <td>6794.0</td>\n",
       "      <td>-85864.0</td>\n",
       "    </tr>\n",
       "    <tr>\n",
       "      <th>21</th>\n",
       "      <td>Céréales, Autres</td>\n",
       "      <td>19035.0</td>\n",
       "      <td>5324.0</td>\n",
       "      <td>-13711.0</td>\n",
       "    </tr>\n",
       "    <tr>\n",
       "      <th>7</th>\n",
       "      <td>Avoine</td>\n",
       "      <td>16251.0</td>\n",
       "      <td>3903.0</td>\n",
       "      <td>-12348.0</td>\n",
       "    </tr>\n",
       "    <tr>\n",
       "      <th>80</th>\n",
       "      <td>Seigle</td>\n",
       "      <td>8099.0</td>\n",
       "      <td>5502.0</td>\n",
       "      <td>-2597.0</td>\n",
       "    </tr>\n",
       "    <tr>\n",
       "      <th>82</th>\n",
       "      <td>Sorgho</td>\n",
       "      <td>24808.0</td>\n",
       "      <td>24153.0</td>\n",
       "      <td>-655.0</td>\n",
       "    </tr>\n",
       "    <tr>\n",
       "      <th>54</th>\n",
       "      <td>Millet</td>\n",
       "      <td>3306.0</td>\n",
       "      <td>23040.0</td>\n",
       "      <td>19734.0</td>\n",
       "    </tr>\n",
       "    <tr>\n",
       "      <th>12</th>\n",
       "      <td>Blé</td>\n",
       "      <td>129668.0</td>\n",
       "      <td>457824.0</td>\n",
       "      <td>328156.0</td>\n",
       "    </tr>\n",
       "    <tr>\n",
       "      <th>79</th>\n",
       "      <td>Riz (Eq Blanchi)</td>\n",
       "      <td>33594.0</td>\n",
       "      <td>377286.0</td>\n",
       "      <td>343692.0</td>\n",
       "    </tr>\n",
       "  </tbody>\n",
       "</table>\n",
       "</div>"
      ],
      "text/plain": [
       "             Produit  Aliments pour animaux  Nourriture  Différence\n",
       "52              Maïs               546116.0    125184.0   -420932.0\n",
       "62              Orge                92658.0      6794.0    -85864.0\n",
       "21  Céréales, Autres                19035.0      5324.0    -13711.0\n",
       "7             Avoine                16251.0      3903.0    -12348.0\n",
       "80            Seigle                 8099.0      5502.0     -2597.0\n",
       "82            Sorgho                24808.0     24153.0      -655.0\n",
       "54            Millet                 3306.0     23040.0     19734.0\n",
       "12               Blé               129668.0    457824.0    328156.0\n",
       "79  Riz (Eq Blanchi)                33594.0    377286.0    343692.0"
      ]
     },
     "execution_count": 14,
     "metadata": {},
     "output_type": "execute_result"
    }
   ],
   "source": [
    "cereales = ['Avoine','Blé','Céréales, Autres','Maïs','Millet','Orge','Riz (Eq Blanchi)','Seigle','Sorgho']\n",
    "#Selection des colonnes numériques\n",
    "dispo_cereales = dispo[['Produit','Aliments pour animaux', 'Autres Utilisations', 'Disponibilité intérieure', 'Exportations - Quantité', 'Importations - Quantité', 'Nourriture','Pertes', 'Production','Semences','Traitement','Variation de stock']]\n",
    "#Somme par catégorie de produit\n",
    "dispo_cereales = dispo_cereales.groupby('Produit').sum().reset_index()\n",
    "analyse_cereale = dispo_cereales[dispo_cereales['Produit'].isin(cereales)].copy()\n",
    "\n",
    "analyse_cereale['Différence'] = round((analyse_cereale['Nourriture'] - analyse_cereale['Aliments pour animaux']),2)\n",
    "analyse_cereale[['Produit', 'Aliments pour animaux', 'Nourriture', 'Différence']].sort_values('Différence')\n"
   ]
  },
  {
   "cell_type": "code",
   "execution_count": 15,
   "metadata": {},
   "outputs": [
    {
     "name": "stdout",
     "output_type": "stream",
     "text": [
      "La disponibilité intérieure mondiale des céréales ('Avoine', 'Blé', 'Céréales, Autres', 'Maïs', 'Millet', 'Orge', 'Riz (Eq Blanchi)', 'Seigle', 'Sorgho')  est de 2407.0 millions de tonnes.\n",
      "La production mondiale des céréales listés ci-dessus est de 2523345.0 milliers de tonnes.\n",
      "36.29% de la disponibilité intérieure sert à l'alimentation animale.\n",
      "42.75% de la disponibilité intérieure sert à l'alimentation humaine.\n",
      "4.45% de la disponibilité intérieure est perdue.\n",
      "2.85% de la disponibilité intérieure est utilisée comme semences.\n"
     ]
    }
   ],
   "source": [
    "print(f\"La disponibilité intérieure mondiale des céréales {*cereales,}  est de {round(analyse_cereale['Disponibilité intérieure'].sum()/1e3,2)} millions de tonnes.\")\n",
    "print(f\"La production mondiale des céréales listés ci-dessus est de {round(analyse_cereale['Production'].sum(),2)} milliers de tonnes.\")\n",
    "print(f\"{round((analyse_cereale['Aliments pour animaux'].sum())/(analyse_cereale['Disponibilité intérieure'].sum())*100,2)}% de la disponibilité intérieure sert à l'alimentation animale.\")\n",
    "print(f\"{round((analyse_cereale['Nourriture'].sum())/(analyse_cereale['Disponibilité intérieure'].sum())*100,2)}% de la disponibilité intérieure sert à l'alimentation humaine.\")\n",
    "print(f\"{round((analyse_cereale['Pertes'].sum())/(analyse_cereale['Disponibilité intérieure'].sum())*100,2)}% de la disponibilité intérieure est perdue.\")\n",
    "print(f\"{round((analyse_cereale['Semences'].sum())/(analyse_cereale['Disponibilité intérieure'].sum())*100,2)}% de la disponibilité intérieure est utilisée comme semences.\")"
   ]
  },
  {
   "cell_type": "markdown",
   "metadata": {},
   "source": [
    ">_Analyse graphique de l'utilisation des différents types de céréales_"
   ]
  },
  {
   "cell_type": "code",
   "execution_count": 16,
   "metadata": {},
   "outputs": [
    {
     "data": {
      "image/png": "[encoded data removed]",
      "text/plain": [
       "<Figure size 640x480 with 1 Axes>"
      ]
     },
     "metadata": {},
     "output_type": "display_data"
    }
   ],
   "source": [
    "#Aliments pour animaux en négatif pour faciliter la visualisation\n",
    "analyse_cereale['Aliments pour animaux2']=analyse_cereale['Aliments pour animaux']*(-1)\n",
    "\n",
    "#Création de 2 histogramme négatifs et positifs\n",
    "sns.barplot(x= 'Produit', y = 'Nourriture', data = analyse_cereale, color=\"b\")\n",
    "sns.barplot(x= 'Produit', y = 'Aliments pour animaux2', data = analyse_cereale , color=\"r\")\n",
    "#Creation de la légende\n",
    "ac_a = mpatches.Patch(color='b', label='Alimentation humaine')\n",
    "ac_b = mpatches.Patch(color='r', label='Alimentation animale')\n",
    "ac_c = mpatches.Patch(color='g', label='Différence')\n",
    "plt.legend(handles=[ac_a,ac_b,ac_c])\n",
    "#Création de la courbe matérialisant la différence\n",
    "bx = sns.lineplot(x= 'Produit', y = 'Différence' , data = analyse_cereale, color = \"g\")\n",
    "#Rotation des libélés X\n",
    "bx.set_xticklabels(bx.get_xticklabels(),rotation = 90)\n",
    "#Noms des axes\n",
    "plt.xlabel(\"Céréales\" , fontsize = 11)\n",
    "plt.ylabel(\"Quantité en milliers de tonnes\", fontsize = 11)\n",
    "plt.title(\"Différence d'utilisation des Céréales entre l'alimentation humaine et animale\" , fontsize = 14)\n",
    "\n",
    "plt.show()"
   ]
  },
  {
   "cell_type": "markdown",
   "metadata": {},
   "source": [
    "__Cas du Manioc en Thaïlande__"
   ]
  },
  {
   "cell_type": "code",
   "execution_count": 17,
   "metadata": {},
   "outputs": [],
   "source": [
    "pays = 'Thaïlande'\n",
    "produit = 'Manioc'\n",
    "\n",
    "dispo_spe = dispo.loc[(dispo['Pays'] ==pays)&(dispo['Produit'] == produit),['Pays','Produit','Disponibilité intérieure', 'Production', 'Exportations - Quantité', 'Nourriture', 'Aliments pour animaux','Importations - Quantité']].reset_index().copy()\n",
    "dispo_spe_prod = dispo_spe.iloc[0,4]\n",
    "dispo_spe_exp = dispo_spe.iloc[0,5]\n",
    "dispo_spe_nourriture = dispo_spe.iloc[0,6]\n",
    "dispo_spe_animaux = dispo_spe.iloc[0,7]\n",
    "\n",
    "sous_nut_spe = sous_nut.loc[(sous_nut['Pays'] == pays)&(sous_nut['Année de Référence']==annee)]\n",
    "sous_nut_spe = sous_nut_spe.iloc[0,2]\n",
    "\n",
    "pop_spe = pop_annee.loc[pop_annee['Pays']== pays].iloc[0,2]\n"
   ]
  },
  {
   "cell_type": "code",
   "execution_count": 18,
   "metadata": {},
   "outputs": [
    {
     "name": "stdout",
     "output_type": "stream",
     "text": [
      "En 2017, la production de Manioc par la Thaïlande est de 30228 millers de tonnes. 83.41% de cette production est exportée, 5.95% sert d'alimentation animale.\n",
      "Seule 2.88 % sert à l'alimentation humaine.\n",
      "Pourtant, la Thaïlande a 6.2 millions d'habitants en état de sous nutrition, soit 8.96% de sa population.\n"
     ]
    }
   ],
   "source": [
    "print(f\"En {annee}, la production de {produit} par la {pays} est de {round(dispo_spe_prod)} millers de tonnes. \\\n",
    "{round(dispo_spe_exp/dispo_spe_prod*100,2)}% de cette production est exportée, {round(dispo_spe_animaux/dispo_spe_prod*100,2)}% sert d'alimentation animale.\")\n",
    "print(f\"Seule {round(dispo_spe_nourriture/dispo_spe_prod*100,2)} % sert à l'alimentation humaine.\")\n",
    "print(f\"Pourtant, la {pays} a {sous_nut_spe} millions d'habitants en état de sous nutrition, soit {round(sous_nut_spe/pop_spe*100 , 2)}% de sa population.\")"
   ]
  },
  {
   "cell_type": "markdown",
   "metadata": {},
   "source": [
    "Retour au [sommaire](#sommaire)"
   ]
  },
  {
   "cell_type": "markdown",
   "metadata": {},
   "source": [
    "### 2.3 Demandes de Melanie"
   ]
  },
  {
   "cell_type": "markdown",
   "metadata": {},
   "source": [
    "#### __Pays pour lesquels la proportion de personnes sous-alimentées est la plus forte en 2017__"
   ]
  },
  {
   "cell_type": "code",
   "execution_count": 19,
   "metadata": {},
   "outputs": [
    {
     "data": {
      "text/html": [
       "<div>\n",
       "<style scoped>\n",
       "    .dataframe tbody tr th:only-of-type {\n",
       "        vertical-align: middle;\n",
       "    }\n",
       "\n",
       "    .dataframe tbody tr th {\n",
       "        vertical-align: top;\n",
       "    }\n",
       "\n",
       "    .dataframe thead th {\n",
       "        text-align: right;\n",
       "    }\n",
       "</style>\n",
       "<table border=\"1\" class=\"dataframe\">\n",
       "  <thead>\n",
       "    <tr style=\"text-align: right;\">\n",
       "      <th></th>\n",
       "      <th>Pays_x</th>\n",
       "      <th>Population sousnut</th>\n",
       "      <th>Population</th>\n",
       "      <th>Proportion en %</th>\n",
       "    </tr>\n",
       "  </thead>\n",
       "  <tbody>\n",
       "    <tr>\n",
       "      <th>0</th>\n",
       "      <td>Haïti</td>\n",
       "      <td>5.3</td>\n",
       "      <td>10.982366</td>\n",
       "      <td>48.26</td>\n",
       "    </tr>\n",
       "    <tr>\n",
       "      <th>1</th>\n",
       "      <td>République populaire démocratique de Corée</td>\n",
       "      <td>12.0</td>\n",
       "      <td>25.429825</td>\n",
       "      <td>47.19</td>\n",
       "    </tr>\n",
       "    <tr>\n",
       "      <th>2</th>\n",
       "      <td>Madagascar</td>\n",
       "      <td>10.5</td>\n",
       "      <td>25.570512</td>\n",
       "      <td>41.06</td>\n",
       "    </tr>\n",
       "    <tr>\n",
       "      <th>3</th>\n",
       "      <td>Libéria</td>\n",
       "      <td>1.8</td>\n",
       "      <td>4.702226</td>\n",
       "      <td>38.28</td>\n",
       "    </tr>\n",
       "    <tr>\n",
       "      <th>4</th>\n",
       "      <td>Lesotho</td>\n",
       "      <td>0.8</td>\n",
       "      <td>2.091534</td>\n",
       "      <td>38.25</td>\n",
       "    </tr>\n",
       "    <tr>\n",
       "      <th>5</th>\n",
       "      <td>Tchad</td>\n",
       "      <td>5.7</td>\n",
       "      <td>15.016753</td>\n",
       "      <td>37.96</td>\n",
       "    </tr>\n",
       "    <tr>\n",
       "      <th>6</th>\n",
       "      <td>Rwanda</td>\n",
       "      <td>4.2</td>\n",
       "      <td>11.980961</td>\n",
       "      <td>35.06</td>\n",
       "    </tr>\n",
       "    <tr>\n",
       "      <th>7</th>\n",
       "      <td>Mozambique</td>\n",
       "      <td>9.4</td>\n",
       "      <td>28.649018</td>\n",
       "      <td>32.81</td>\n",
       "    </tr>\n",
       "    <tr>\n",
       "      <th>8</th>\n",
       "      <td>Timor-Leste</td>\n",
       "      <td>0.4</td>\n",
       "      <td>1.243258</td>\n",
       "      <td>32.17</td>\n",
       "    </tr>\n",
       "    <tr>\n",
       "      <th>9</th>\n",
       "      <td>Afghanistan</td>\n",
       "      <td>10.5</td>\n",
       "      <td>36.296113</td>\n",
       "      <td>28.93</td>\n",
       "    </tr>\n",
       "    <tr>\n",
       "      <th>10</th>\n",
       "      <td>Congo</td>\n",
       "      <td>1.4</td>\n",
       "      <td>5.110695</td>\n",
       "      <td>27.39</td>\n",
       "    </tr>\n",
       "    <tr>\n",
       "      <th>11</th>\n",
       "      <td>Venezuela (République bolivarienne du)</td>\n",
       "      <td>8.0</td>\n",
       "      <td>29.402484</td>\n",
       "      <td>27.21</td>\n",
       "    </tr>\n",
       "    <tr>\n",
       "      <th>12</th>\n",
       "      <td>Sierra Leone</td>\n",
       "      <td>2.0</td>\n",
       "      <td>7.488423</td>\n",
       "      <td>26.71</td>\n",
       "    </tr>\n",
       "    <tr>\n",
       "      <th>13</th>\n",
       "      <td>République-Unie de Tanzanie</td>\n",
       "      <td>13.4</td>\n",
       "      <td>54.660339</td>\n",
       "      <td>24.52</td>\n",
       "    </tr>\n",
       "    <tr>\n",
       "      <th>14</th>\n",
       "      <td>Iraq</td>\n",
       "      <td>9.0</td>\n",
       "      <td>37.552781</td>\n",
       "      <td>23.97</td>\n",
       "    </tr>\n",
       "    <tr>\n",
       "      <th>15</th>\n",
       "      <td>Kenya</td>\n",
       "      <td>11.9</td>\n",
       "      <td>50.221142</td>\n",
       "      <td>23.70</td>\n",
       "    </tr>\n",
       "    <tr>\n",
       "      <th>16</th>\n",
       "      <td>Botswana</td>\n",
       "      <td>0.5</td>\n",
       "      <td>2.205080</td>\n",
       "      <td>22.67</td>\n",
       "    </tr>\n",
       "    <tr>\n",
       "      <th>17</th>\n",
       "      <td>Togo</td>\n",
       "      <td>1.6</td>\n",
       "      <td>7.698474</td>\n",
       "      <td>20.78</td>\n",
       "    </tr>\n",
       "    <tr>\n",
       "      <th>18</th>\n",
       "      <td>Côte d'Ivoire</td>\n",
       "      <td>4.9</td>\n",
       "      <td>24.437470</td>\n",
       "      <td>20.05</td>\n",
       "    </tr>\n",
       "    <tr>\n",
       "      <th>19</th>\n",
       "      <td>Éthiopie</td>\n",
       "      <td>21.1</td>\n",
       "      <td>106.399924</td>\n",
       "      <td>19.83</td>\n",
       "    </tr>\n",
       "  </tbody>\n",
       "</table>\n",
       "</div>"
      ],
      "text/plain": [
       "                                        Pays_x  Population sousnut  \\\n",
       "0                                        Haïti                 5.3   \n",
       "1   République populaire démocratique de Corée                12.0   \n",
       "2                                   Madagascar                10.5   \n",
       "3                                      Libéria                 1.8   \n",
       "4                                      Lesotho                 0.8   \n",
       "5                                        Tchad                 5.7   \n",
       "6                                       Rwanda                 4.2   \n",
       "7                                   Mozambique                 9.4   \n",
       "8                                  Timor-Leste                 0.4   \n",
       "9                                  Afghanistan                10.5   \n",
       "10                                       Congo                 1.4   \n",
       "11      Venezuela (République bolivarienne du)                 8.0   \n",
       "12                                Sierra Leone                 2.0   \n",
       "13                 République-Unie de Tanzanie                13.4   \n",
       "14                                        Iraq                 9.0   \n",
       "15                                       Kenya                11.9   \n",
       "16                                    Botswana                 0.5   \n",
       "17                                        Togo                 1.6   \n",
       "18                               Côte d'Ivoire                 4.9   \n",
       "19                                    Éthiopie                21.1   \n",
       "\n",
       "    Population  Proportion en %  \n",
       "0    10.982366            48.26  \n",
       "1    25.429825            47.19  \n",
       "2    25.570512            41.06  \n",
       "3     4.702226            38.28  \n",
       "4     2.091534            38.25  \n",
       "5    15.016753            37.96  \n",
       "6    11.980961            35.06  \n",
       "7    28.649018            32.81  \n",
       "8     1.243258            32.17  \n",
       "9    36.296113            28.93  \n",
       "10    5.110695            27.39  \n",
       "11   29.402484            27.21  \n",
       "12    7.488423            26.71  \n",
       "13   54.660339            24.52  \n",
       "14   37.552781            23.97  \n",
       "15   50.221142            23.70  \n",
       "16    2.205080            22.67  \n",
       "17    7.698474            20.78  \n",
       "18   24.437470            20.05  \n",
       "19  106.399924            19.83  "
      ]
     },
     "execution_count": 19,
     "metadata": {},
     "output_type": "execute_result"
    }
   ],
   "source": [
    "#Création d'une PK pour liaison des 2 DF\n",
    "sous_nut['Ref'] = sous_nut['Pays'] + sous_nut['Année de Référence'].astype('string')\n",
    "pop['Ref'] = pop['Pays'] + pop['Année'].astype('string')\n",
    "#Liaison\n",
    "analyse_sous_nut = pd.merge(sous_nut, pop, on = 'Ref' , how = 'left')\n",
    "analyse_sous_nut['Proportion en %'] = round(analyse_sous_nut['Population sousnut'] / analyse_sous_nut['Population'] * 100 , 2)\n",
    "proportion_sous_nut = analyse_sous_nut.loc[(analyse_sous_nut['Année de Référence']==annee)&(analyse_sous_nut['Proportion en %']>19.5), ['Pays_x', 'Population sousnut', 'Population' , 'Proportion en %']].sort_values('Proportion en %', ascending= False).reset_index(drop=True)\n",
    "proportion_sous_nut.head(20)\n"
   ]
  },
  {
   "cell_type": "code",
   "execution_count": 20,
   "metadata": {},
   "outputs": [
    {
     "data": {
      "image/png": "[encoded data removed]",
      "text/plain": [
       "<Figure size 640x480 with 1 Axes>"
      ]
     },
     "metadata": {},
     "output_type": "display_data"
    }
   ],
   "source": [
    "ax = sns.barplot(x = proportion_sous_nut['Pays_x'], y = proportion_sous_nut['Proportion en %'], data = proportion_sous_nut['Proportion en %'], palette=\"CMRmap\")\n",
    "ax.set_xticklabels(ax.get_xticklabels(),rotation = 90)\n",
    "plt.xlabel(\"\")\n",
    "plt.ylabel(\"Poucentage de la population en sous nutrition\", fontsize = 11)\n",
    "plt.title(\"Pays ayant la plus forte proportion de personnes sous-alimentées\" , fontsize = 14)\n",
    "plt.show()"
   ]
  },
  {
   "cell_type": "markdown",
   "metadata": {},
   "source": [
    "#### __Les 25 Pays ayant le plus bénéficier d'aides depuis 2013__"
   ]
  },
  {
   "cell_type": "code",
   "execution_count": 21,
   "metadata": {},
   "outputs": [
    {
     "data": {
      "text/html": [
       "<div>\n",
       "<style scoped>\n",
       "    .dataframe tbody tr th:only-of-type {\n",
       "        vertical-align: middle;\n",
       "    }\n",
       "\n",
       "    .dataframe tbody tr th {\n",
       "        vertical-align: top;\n",
       "    }\n",
       "\n",
       "    .dataframe thead th {\n",
       "        text-align: right;\n",
       "    }\n",
       "</style>\n",
       "<table border=\"1\" class=\"dataframe\">\n",
       "  <thead>\n",
       "    <tr style=\"text-align: right;\">\n",
       "      <th>Année</th>\n",
       "      <th>2013</th>\n",
       "      <th>2014</th>\n",
       "      <th>2015</th>\n",
       "      <th>2016</th>\n",
       "      <th>Total</th>\n",
       "    </tr>\n",
       "    <tr>\n",
       "      <th>Pays</th>\n",
       "      <th></th>\n",
       "      <th></th>\n",
       "      <th></th>\n",
       "      <th></th>\n",
       "      <th></th>\n",
       "    </tr>\n",
       "  </thead>\n",
       "  <tbody>\n",
       "    <tr>\n",
       "      <th>République arabe syrienne</th>\n",
       "      <td>563.566</td>\n",
       "      <td>651.870</td>\n",
       "      <td>524.949</td>\n",
       "      <td>118.558</td>\n",
       "      <td>1858.943</td>\n",
       "    </tr>\n",
       "    <tr>\n",
       "      <th>Éthiopie</th>\n",
       "      <td>591.404</td>\n",
       "      <td>586.624</td>\n",
       "      <td>203.266</td>\n",
       "      <td>NaN</td>\n",
       "      <td>1381.294</td>\n",
       "    </tr>\n",
       "    <tr>\n",
       "      <th>Yémen</th>\n",
       "      <td>264.764</td>\n",
       "      <td>103.840</td>\n",
       "      <td>372.306</td>\n",
       "      <td>465.574</td>\n",
       "      <td>1206.484</td>\n",
       "    </tr>\n",
       "    <tr>\n",
       "      <th>Soudan du Sud</th>\n",
       "      <td>196.330</td>\n",
       "      <td>450.610</td>\n",
       "      <td>48.308</td>\n",
       "      <td>NaN</td>\n",
       "      <td>695.248</td>\n",
       "    </tr>\n",
       "    <tr>\n",
       "      <th>Soudan</th>\n",
       "      <td>330.230</td>\n",
       "      <td>321.904</td>\n",
       "      <td>17.650</td>\n",
       "      <td>NaN</td>\n",
       "      <td>669.784</td>\n",
       "    </tr>\n",
       "    <tr>\n",
       "      <th>Kenya</th>\n",
       "      <td>220.966</td>\n",
       "      <td>217.418</td>\n",
       "      <td>114.452</td>\n",
       "      <td>NaN</td>\n",
       "      <td>552.836</td>\n",
       "    </tr>\n",
       "    <tr>\n",
       "      <th>Bangladesh</th>\n",
       "      <td>131.018</td>\n",
       "      <td>194.628</td>\n",
       "      <td>22.542</td>\n",
       "      <td>NaN</td>\n",
       "      <td>348.188</td>\n",
       "    </tr>\n",
       "    <tr>\n",
       "      <th>Somalie</th>\n",
       "      <td>139.800</td>\n",
       "      <td>81.180</td>\n",
       "      <td>71.698</td>\n",
       "      <td>NaN</td>\n",
       "      <td>292.678</td>\n",
       "    </tr>\n",
       "    <tr>\n",
       "      <th>République démocratique du Congo</th>\n",
       "      <td>150.320</td>\n",
       "      <td>70.134</td>\n",
       "      <td>68.048</td>\n",
       "      <td>NaN</td>\n",
       "      <td>288.502</td>\n",
       "    </tr>\n",
       "    <tr>\n",
       "      <th>Niger</th>\n",
       "      <td>62.720</td>\n",
       "      <td>66.226</td>\n",
       "      <td>54.656</td>\n",
       "      <td>92.742</td>\n",
       "      <td>276.344</td>\n",
       "    </tr>\n",
       "    <tr>\n",
       "      <th>Tchad</th>\n",
       "      <td>93.930</td>\n",
       "      <td>97.926</td>\n",
       "      <td>73.678</td>\n",
       "      <td>2.432</td>\n",
       "      <td>267.966</td>\n",
       "    </tr>\n",
       "    <tr>\n",
       "      <th>Pakistan</th>\n",
       "      <td>101.364</td>\n",
       "      <td>110.268</td>\n",
       "      <td>19.440</td>\n",
       "      <td>NaN</td>\n",
       "      <td>231.072</td>\n",
       "    </tr>\n",
       "    <tr>\n",
       "      <th>République populaire démocratique de Corée</th>\n",
       "      <td>71.324</td>\n",
       "      <td>43.182</td>\n",
       "      <td>70.506</td>\n",
       "      <td>2.400</td>\n",
       "      <td>187.412</td>\n",
       "    </tr>\n",
       "    <tr>\n",
       "      <th>Afghanistan</th>\n",
       "      <td>128.238</td>\n",
       "      <td>57.214</td>\n",
       "      <td>NaN</td>\n",
       "      <td>NaN</td>\n",
       "      <td>185.452</td>\n",
       "    </tr>\n",
       "    <tr>\n",
       "      <th>République-Unie de Tanzanie</th>\n",
       "      <td>43.116</td>\n",
       "      <td>76.606</td>\n",
       "      <td>52.300</td>\n",
       "      <td>NaN</td>\n",
       "      <td>172.022</td>\n",
       "    </tr>\n",
       "    <tr>\n",
       "      <th>Philippines</th>\n",
       "      <td>62.164</td>\n",
       "      <td>105.424</td>\n",
       "      <td>4.134</td>\n",
       "      <td>NaN</td>\n",
       "      <td>171.722</td>\n",
       "    </tr>\n",
       "    <tr>\n",
       "      <th>Palestine</th>\n",
       "      <td>53.286</td>\n",
       "      <td>83.134</td>\n",
       "      <td>33.264</td>\n",
       "      <td>NaN</td>\n",
       "      <td>169.684</td>\n",
       "    </tr>\n",
       "    <tr>\n",
       "      <th>Mali</th>\n",
       "      <td>80.486</td>\n",
       "      <td>56.244</td>\n",
       "      <td>12.856</td>\n",
       "      <td>NaN</td>\n",
       "      <td>149.586</td>\n",
       "    </tr>\n",
       "    <tr>\n",
       "      <th>Haïti</th>\n",
       "      <td>61.214</td>\n",
       "      <td>33.108</td>\n",
       "      <td>9.666</td>\n",
       "      <td>12.462</td>\n",
       "      <td>116.450</td>\n",
       "    </tr>\n",
       "    <tr>\n",
       "      <th>Nicaragua</th>\n",
       "      <td>31.052</td>\n",
       "      <td>34.104</td>\n",
       "      <td>48.432</td>\n",
       "      <td>1.744</td>\n",
       "      <td>115.332</td>\n",
       "    </tr>\n",
       "    <tr>\n",
       "      <th>Guatemala</th>\n",
       "      <td>52.626</td>\n",
       "      <td>23.848</td>\n",
       "      <td>21.046</td>\n",
       "      <td>1.406</td>\n",
       "      <td>98.926</td>\n",
       "    </tr>\n",
       "    <tr>\n",
       "      <th>Madagascar</th>\n",
       "      <td>48.382</td>\n",
       "      <td>21.934</td>\n",
       "      <td>26.362</td>\n",
       "      <td>NaN</td>\n",
       "      <td>96.678</td>\n",
       "    </tr>\n",
       "    <tr>\n",
       "      <th>Malawi</th>\n",
       "      <td>53.446</td>\n",
       "      <td>24.450</td>\n",
       "      <td>11.406</td>\n",
       "      <td>1.720</td>\n",
       "      <td>91.022</td>\n",
       "    </tr>\n",
       "    <tr>\n",
       "      <th>Sénégal</th>\n",
       "      <td>31.862</td>\n",
       "      <td>34.000</td>\n",
       "      <td>23.900</td>\n",
       "      <td>NaN</td>\n",
       "      <td>89.762</td>\n",
       "    </tr>\n",
       "    <tr>\n",
       "      <th>République dominicaine</th>\n",
       "      <td>49.024</td>\n",
       "      <td>35.014</td>\n",
       "      <td>0.236</td>\n",
       "      <td>0.232</td>\n",
       "      <td>84.506</td>\n",
       "    </tr>\n",
       "  </tbody>\n",
       "</table>\n",
       "</div>"
      ],
      "text/plain": [
       "Année                                          2013     2014     2015  \\\n",
       "Pays                                                                    \n",
       "République arabe syrienne                   563.566  651.870  524.949   \n",
       "Éthiopie                                    591.404  586.624  203.266   \n",
       "Yémen                                       264.764  103.840  372.306   \n",
       "Soudan du Sud                               196.330  450.610   48.308   \n",
       "Soudan                                      330.230  321.904   17.650   \n",
       "Kenya                                       220.966  217.418  114.452   \n",
       "Bangladesh                                  131.018  194.628   22.542   \n",
       "Somalie                                     139.800   81.180   71.698   \n",
       "République démocratique du Congo            150.320   70.134   68.048   \n",
       "Niger                                        62.720   66.226   54.656   \n",
       "Tchad                                        93.930   97.926   73.678   \n",
       "Pakistan                                    101.364  110.268   19.440   \n",
       "République populaire démocratique de Corée   71.324   43.182   70.506   \n",
       "Afghanistan                                 128.238   57.214      NaN   \n",
       "République-Unie de Tanzanie                  43.116   76.606   52.300   \n",
       "Philippines                                  62.164  105.424    4.134   \n",
       "Palestine                                    53.286   83.134   33.264   \n",
       "Mali                                         80.486   56.244   12.856   \n",
       "Haïti                                        61.214   33.108    9.666   \n",
       "Nicaragua                                    31.052   34.104   48.432   \n",
       "Guatemala                                    52.626   23.848   21.046   \n",
       "Madagascar                                   48.382   21.934   26.362   \n",
       "Malawi                                       53.446   24.450   11.406   \n",
       "Sénégal                                      31.862   34.000   23.900   \n",
       "République dominicaine                       49.024   35.014    0.236   \n",
       "\n",
       "Année                                          2016     Total  \n",
       "Pays                                                           \n",
       "République arabe syrienne                   118.558  1858.943  \n",
       "Éthiopie                                        NaN  1381.294  \n",
       "Yémen                                       465.574  1206.484  \n",
       "Soudan du Sud                                   NaN   695.248  \n",
       "Soudan                                          NaN   669.784  \n",
       "Kenya                                           NaN   552.836  \n",
       "Bangladesh                                      NaN   348.188  \n",
       "Somalie                                         NaN   292.678  \n",
       "République démocratique du Congo                NaN   288.502  \n",
       "Niger                                        92.742   276.344  \n",
       "Tchad                                         2.432   267.966  \n",
       "Pakistan                                        NaN   231.072  \n",
       "République populaire démocratique de Corée    2.400   187.412  \n",
       "Afghanistan                                     NaN   185.452  \n",
       "République-Unie de Tanzanie                     NaN   172.022  \n",
       "Philippines                                     NaN   171.722  \n",
       "Palestine                                       NaN   169.684  \n",
       "Mali                                            NaN   149.586  \n",
       "Haïti                                        12.462   116.450  \n",
       "Nicaragua                                     1.744   115.332  \n",
       "Guatemala                                     1.406    98.926  \n",
       "Madagascar                                      NaN    96.678  \n",
       "Malawi                                        1.720    91.022  \n",
       "Sénégal                                         NaN    89.762  \n",
       "République dominicaine                        0.232    84.506  "
      ]
     },
     "execution_count": 21,
     "metadata": {},
     "output_type": "execute_result"
    }
   ],
   "source": [
    "aide.pivot_table(index = 'Pays', columns = 'Année', values = 'Quantité' , aggfunc='sum', margins = True, margins_name='Total').iloc[:-1].sort_values('Total', ascending= False).head(25)\n",
    "# Pivot_table pour le TCD\n",
    "#margins pour le total (lignes et colonnes)\n",
    "#iloc[:-1] pour enlever le total par colonnes\n",
    "#sort_values pour l'ordre décroissant\n",
    "#head(25) pour avoir les 25 Premiers"
   ]
  },
  {
   "cell_type": "markdown",
   "metadata": {},
   "source": [
    "#### __Disponibilité alimentaire par habitants__"
   ]
  },
  {
   "cell_type": "markdown",
   "metadata": {},
   "source": [
    ">__15 Pays avec le plus de disponibilité alimentaire par habitants__\n"
   ]
  },
  {
   "cell_type": "code",
   "execution_count": 22,
   "metadata": {},
   "outputs": [
    {
     "data": {
      "text/html": [
       "<div>\n",
       "<style scoped>\n",
       "    .dataframe tbody tr th:only-of-type {\n",
       "        vertical-align: middle;\n",
       "    }\n",
       "\n",
       "    .dataframe tbody tr th {\n",
       "        vertical-align: top;\n",
       "    }\n",
       "\n",
       "    .dataframe thead th {\n",
       "        text-align: right;\n",
       "    }\n",
       "</style>\n",
       "<table border=\"1\" class=\"dataframe\">\n",
       "  <thead>\n",
       "    <tr style=\"text-align: right;\">\n",
       "      <th></th>\n",
       "      <th>Pays</th>\n",
       "      <th>Disponibilité alimentaire (Kcal/personne/jour)</th>\n",
       "    </tr>\n",
       "  </thead>\n",
       "  <tbody>\n",
       "    <tr>\n",
       "      <th>0</th>\n",
       "      <td>Autriche</td>\n",
       "      <td>3770.0</td>\n",
       "    </tr>\n",
       "    <tr>\n",
       "      <th>1</th>\n",
       "      <td>Belgique</td>\n",
       "      <td>3737.0</td>\n",
       "    </tr>\n",
       "    <tr>\n",
       "      <th>2</th>\n",
       "      <td>Turquie</td>\n",
       "      <td>3708.0</td>\n",
       "    </tr>\n",
       "    <tr>\n",
       "      <th>3</th>\n",
       "      <td>États-Unis d'Amérique</td>\n",
       "      <td>3682.0</td>\n",
       "    </tr>\n",
       "    <tr>\n",
       "      <th>4</th>\n",
       "      <td>Israël</td>\n",
       "      <td>3610.0</td>\n",
       "    </tr>\n",
       "    <tr>\n",
       "      <th>5</th>\n",
       "      <td>Irlande</td>\n",
       "      <td>3602.0</td>\n",
       "    </tr>\n",
       "    <tr>\n",
       "      <th>6</th>\n",
       "      <td>Italie</td>\n",
       "      <td>3578.0</td>\n",
       "    </tr>\n",
       "    <tr>\n",
       "      <th>7</th>\n",
       "      <td>Luxembourg</td>\n",
       "      <td>3540.0</td>\n",
       "    </tr>\n",
       "    <tr>\n",
       "      <th>8</th>\n",
       "      <td>Égypte</td>\n",
       "      <td>3518.0</td>\n",
       "    </tr>\n",
       "    <tr>\n",
       "      <th>9</th>\n",
       "      <td>Allemagne</td>\n",
       "      <td>3503.0</td>\n",
       "    </tr>\n",
       "    <tr>\n",
       "      <th>10</th>\n",
       "      <td>Koweït</td>\n",
       "      <td>3499.0</td>\n",
       "    </tr>\n",
       "    <tr>\n",
       "      <th>11</th>\n",
       "      <td>Canada</td>\n",
       "      <td>3499.0</td>\n",
       "    </tr>\n",
       "    <tr>\n",
       "      <th>12</th>\n",
       "      <td>Monténégro</td>\n",
       "      <td>3490.0</td>\n",
       "    </tr>\n",
       "    <tr>\n",
       "      <th>13</th>\n",
       "      <td>Norvège</td>\n",
       "      <td>3483.0</td>\n",
       "    </tr>\n",
       "    <tr>\n",
       "      <th>14</th>\n",
       "      <td>France</td>\n",
       "      <td>3482.0</td>\n",
       "    </tr>\n",
       "  </tbody>\n",
       "</table>\n",
       "</div>"
      ],
      "text/plain": [
       "                     Pays  Disponibilité alimentaire (Kcal/personne/jour)\n",
       "0                Autriche                                          3770.0\n",
       "1                Belgique                                          3737.0\n",
       "2                 Turquie                                          3708.0\n",
       "3   États-Unis d'Amérique                                          3682.0\n",
       "4                  Israël                                          3610.0\n",
       "5                 Irlande                                          3602.0\n",
       "6                  Italie                                          3578.0\n",
       "7              Luxembourg                                          3540.0\n",
       "8                  Égypte                                          3518.0\n",
       "9               Allemagne                                          3503.0\n",
       "10                 Koweït                                          3499.0\n",
       "11                 Canada                                          3499.0\n",
       "12             Monténégro                                          3490.0\n",
       "13                Norvège                                          3483.0\n",
       "14                 France                                          3482.0"
      ]
     },
     "execution_count": 22,
     "metadata": {},
     "output_type": "execute_result"
    }
   ],
   "source": [
    "dispo_habitants = dispo[['Pays','Disponibilité alimentaire (Kcal/personne/jour)']]\n",
    "dispo_habitants = dispo_habitants.groupby('Pays').sum()\n",
    "\n",
    "dispo_habitants.sort_values('Disponibilité alimentaire (Kcal/personne/jour)', ascending = False).reset_index().head(15)"
   ]
  },
  {
   "cell_type": "markdown",
   "metadata": {},
   "source": [
    ">__15 Pays avec le moins de disponibilité alimentaire par habitants__"
   ]
  },
  {
   "cell_type": "code",
   "execution_count": 23,
   "metadata": {},
   "outputs": [
    {
     "data": {
      "text/html": [
       "<div>\n",
       "<style scoped>\n",
       "    .dataframe tbody tr th:only-of-type {\n",
       "        vertical-align: middle;\n",
       "    }\n",
       "\n",
       "    .dataframe tbody tr th {\n",
       "        vertical-align: top;\n",
       "    }\n",
       "\n",
       "    .dataframe thead th {\n",
       "        text-align: right;\n",
       "    }\n",
       "</style>\n",
       "<table border=\"1\" class=\"dataframe\">\n",
       "  <thead>\n",
       "    <tr style=\"text-align: right;\">\n",
       "      <th></th>\n",
       "      <th>Pays</th>\n",
       "      <th>Disponibilité alimentaire (Kcal/personne/jour)</th>\n",
       "    </tr>\n",
       "  </thead>\n",
       "  <tbody>\n",
       "    <tr>\n",
       "      <th>0</th>\n",
       "      <td>République centrafricaine</td>\n",
       "      <td>1879.0</td>\n",
       "    </tr>\n",
       "    <tr>\n",
       "      <th>1</th>\n",
       "      <td>Zambie</td>\n",
       "      <td>1924.0</td>\n",
       "    </tr>\n",
       "    <tr>\n",
       "      <th>2</th>\n",
       "      <td>Madagascar</td>\n",
       "      <td>2056.0</td>\n",
       "    </tr>\n",
       "    <tr>\n",
       "      <th>3</th>\n",
       "      <td>Afghanistan</td>\n",
       "      <td>2087.0</td>\n",
       "    </tr>\n",
       "    <tr>\n",
       "      <th>4</th>\n",
       "      <td>Haïti</td>\n",
       "      <td>2089.0</td>\n",
       "    </tr>\n",
       "    <tr>\n",
       "      <th>5</th>\n",
       "      <td>République populaire démocratique de Corée</td>\n",
       "      <td>2093.0</td>\n",
       "    </tr>\n",
       "    <tr>\n",
       "      <th>6</th>\n",
       "      <td>Tchad</td>\n",
       "      <td>2109.0</td>\n",
       "    </tr>\n",
       "    <tr>\n",
       "      <th>7</th>\n",
       "      <td>Zimbabwe</td>\n",
       "      <td>2113.0</td>\n",
       "    </tr>\n",
       "    <tr>\n",
       "      <th>8</th>\n",
       "      <td>Ouganda</td>\n",
       "      <td>2126.0</td>\n",
       "    </tr>\n",
       "    <tr>\n",
       "      <th>9</th>\n",
       "      <td>Timor-Leste</td>\n",
       "      <td>2129.0</td>\n",
       "    </tr>\n",
       "    <tr>\n",
       "      <th>10</th>\n",
       "      <td>Éthiopie</td>\n",
       "      <td>2129.0</td>\n",
       "    </tr>\n",
       "    <tr>\n",
       "      <th>11</th>\n",
       "      <td>Namibie</td>\n",
       "      <td>2166.0</td>\n",
       "    </tr>\n",
       "    <tr>\n",
       "      <th>12</th>\n",
       "      <td>Tadjikistan</td>\n",
       "      <td>2199.0</td>\n",
       "    </tr>\n",
       "    <tr>\n",
       "      <th>13</th>\n",
       "      <td>République-Unie de Tanzanie</td>\n",
       "      <td>2204.0</td>\n",
       "    </tr>\n",
       "    <tr>\n",
       "      <th>14</th>\n",
       "      <td>Kenya</td>\n",
       "      <td>2205.0</td>\n",
       "    </tr>\n",
       "  </tbody>\n",
       "</table>\n",
       "</div>"
      ],
      "text/plain": [
       "                                          Pays  \\\n",
       "0                    République centrafricaine   \n",
       "1                                       Zambie   \n",
       "2                                   Madagascar   \n",
       "3                                  Afghanistan   \n",
       "4                                        Haïti   \n",
       "5   République populaire démocratique de Corée   \n",
       "6                                        Tchad   \n",
       "7                                     Zimbabwe   \n",
       "8                                      Ouganda   \n",
       "9                                  Timor-Leste   \n",
       "10                                    Éthiopie   \n",
       "11                                     Namibie   \n",
       "12                                 Tadjikistan   \n",
       "13                 République-Unie de Tanzanie   \n",
       "14                                       Kenya   \n",
       "\n",
       "    Disponibilité alimentaire (Kcal/personne/jour)  \n",
       "0                                           1879.0  \n",
       "1                                           1924.0  \n",
       "2                                           2056.0  \n",
       "3                                           2087.0  \n",
       "4                                           2089.0  \n",
       "5                                           2093.0  \n",
       "6                                           2109.0  \n",
       "7                                           2113.0  \n",
       "8                                           2126.0  \n",
       "9                                           2129.0  \n",
       "10                                          2129.0  \n",
       "11                                          2166.0  \n",
       "12                                          2199.0  \n",
       "13                                          2204.0  \n",
       "14                                          2205.0  "
      ]
     },
     "execution_count": 23,
     "metadata": {},
     "output_type": "execute_result"
    }
   ],
   "source": [
    "dispo_habitants.sort_values('Disponibilité alimentaire (Kcal/personne/jour)', ascending = True).reset_index().head(15)"
   ]
  },
  {
   "cell_type": "markdown",
   "metadata": {},
   "source": [
    "Retour au [sommaire](#sommaire)"
   ]
  }
 ],
 "metadata": {
  "kernelspec": {
   "display_name": "Python 3.11.0 64-bit",
   "language": "python",
   "name": "python3"
  },
  "language_info": {
   "codemirror_mode": {
    "name": "ipython",
    "version": 3
   },
   "file_extension": ".py",
   "mimetype": "text/x-python",
   "name": "python",
   "nbconvert_exporter": "python",
   "pygments_lexer": "ipython3",
   "version": "3.11.0"
  },
  "vscode": {
   "interpreter": {
    "hash": "b8988e190cc2f61ed33d3d3b123755a55771d4af397b036064c849971c7cc9de"
   }
  }
 },
 "nbformat": 4,
 "nbformat_minor": 2
}
